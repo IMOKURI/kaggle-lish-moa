{
 "cells": [
  {
   "cell_type": "markdown",
   "metadata": {
    "papermill": {
     "duration": 0.06598,
     "end_time": "2020-10-23T00:35:22.610935",
     "exception": false,
     "start_time": "2020-10-23T00:35:22.544955",
     "status": "completed"
    },
    "tags": []
   },
   "source": [
    "# Strategy\n",
    "\n",
    "- Preprocessing\n",
    "    - RankGauss\n",
    "    - PCA + Existing Features\n",
    "    - Variance Encoding\n",
    "- Model\n",
    "    - Normal Neural Network\n",
    "    - Split Neural Network\n",
    "    - ~~NODE (Neural Oblivious Decision Ensembles)~~\n",
    "    - TabNet\n",
    "    - Multi input ResNet\n",
    "    - ~~Kernel Ridge Regression - Platt Scaling ~~\n",
    "- Learning\n",
    "    - Pre-train with non-scored label\n",
    "    - Optimizer: AdamW with weight_decay\n",
    "    - Label smoothing\n",
    "- Prediction\n",
    "    - Ensemble above with weight optimization\n",
    "    - With clipping"
   ]
  },
  {
   "cell_type": "markdown",
   "metadata": {
    "papermill": {
     "duration": 0.062024,
     "end_time": "2020-10-23T00:35:22.736299",
     "exception": false,
     "start_time": "2020-10-23T00:35:22.674275",
     "status": "completed"
    },
    "tags": []
   },
   "source": [
    "# Library"
   ]
  },
  {
   "cell_type": "code",
   "execution_count": 1,
   "metadata": {
    "execution": {
     "iopub.execute_input": "2020-10-23T00:35:22.870583Z",
     "iopub.status.busy": "2020-10-23T00:35:22.869578Z",
     "iopub.status.idle": "2020-10-23T00:35:22.872044Z",
     "shell.execute_reply": "2020-10-23T00:35:22.872598Z"
    },
    "papermill": {
     "duration": 0.073005,
     "end_time": "2020-10-23T00:35:22.872762",
     "exception": false,
     "start_time": "2020-10-23T00:35:22.799757",
     "status": "completed"
    },
    "tags": []
   },
   "outputs": [],
   "source": [
    "import warnings\n",
    "\n",
    "warnings.filterwarnings(\"ignore\")"
   ]
  },
  {
   "cell_type": "code",
   "execution_count": 2,
   "metadata": {
    "execution": {
     "iopub.execute_input": "2020-10-23T00:35:23.002431Z",
     "iopub.status.busy": "2020-10-23T00:35:23.001525Z",
     "iopub.status.idle": "2020-10-23T00:35:23.953776Z",
     "shell.execute_reply": "2020-10-23T00:35:23.953176Z"
    },
    "papermill": {
     "duration": 1.019348,
     "end_time": "2020-10-23T00:35:23.953904",
     "exception": false,
     "start_time": "2020-10-23T00:35:22.934556",
     "status": "completed"
    },
    "tags": []
   },
   "outputs": [],
   "source": [
    "import sys\n",
    "\n",
    "sys.path.append(\"../input/iterative-stratification/iterative-stratification-master\")\n",
    "from iterstrat.ml_stratifiers import MultilabelStratifiedKFold\n",
    "\n",
    "sys.path.append(\"../input/autograd\")\n",
    "import autograd.numpy as np\n",
    "from autograd import grad"
   ]
  },
  {
   "cell_type": "code",
   "execution_count": 3,
   "metadata": {
    "execution": {
     "iopub.execute_input": "2020-10-23T00:35:24.092650Z",
     "iopub.status.busy": "2020-10-23T00:35:24.091803Z",
     "iopub.status.idle": "2020-10-23T00:35:30.333330Z",
     "shell.execute_reply": "2020-10-23T00:35:30.332206Z"
    },
    "papermill": {
     "duration": 6.317301,
     "end_time": "2020-10-23T00:35:30.333455",
     "exception": false,
     "start_time": "2020-10-23T00:35:24.016154",
     "status": "completed"
    },
    "tags": []
   },
   "outputs": [],
   "source": [
    "import datetime\n",
    "import gc\n",
    "import os\n",
    "import random\n",
    "from collections import defaultdict\n",
    "from time import time\n",
    "from typing import Optional\n",
    "\n",
    "# import numpy as np\n",
    "import pandas as pd\n",
    "import tensorflow as tf\n",
    "import tensorflow.keras.backend as K\n",
    "import tensorflow.keras.layers as L\n",
    "import tensorflow_addons as tfa\n",
    "import tensorflow_probability as tfp\n",
    "\n",
    "# import optuna\n",
    "from scipy.optimize import fsolve, minimize\n",
    "from sklearn.decomposition import PCA\n",
    "from sklearn.feature_selection import VarianceThreshold\n",
    "from sklearn.kernel_approximation import Nystroem\n",
    "from sklearn.kernel_ridge import KernelRidge\n",
    "from sklearn.linear_model import LogisticRegression\n",
    "from sklearn.metrics import log_loss\n",
    "from sklearn.model_selection import StratifiedKFold\n",
    "from sklearn.preprocessing import QuantileTransformer, StandardScaler\n",
    "from tensorflow.keras.callbacks import EarlyStopping, ModelCheckpoint, ReduceLROnPlateau"
   ]
  },
  {
   "cell_type": "code",
   "execution_count": 4,
   "metadata": {
    "execution": {
     "iopub.execute_input": "2020-10-23T00:35:30.468938Z",
     "iopub.status.busy": "2020-10-23T00:35:30.467862Z",
     "iopub.status.idle": "2020-10-23T00:35:30.471787Z",
     "shell.execute_reply": "2020-10-23T00:35:30.472474Z"
    },
    "papermill": {
     "duration": 0.075638,
     "end_time": "2020-10-23T00:35:30.472619",
     "exception": false,
     "start_time": "2020-10-23T00:35:30.396981",
     "status": "completed"
    },
    "tags": []
   },
   "outputs": [
    {
     "name": "stdout",
     "output_type": "stream",
     "text": [
      "Accelerated Linear Algebra enabled\n"
     ]
    }
   ],
   "source": [
    "MIXED_PRECISION = False\n",
    "XLA_ACCELERATE = True\n",
    "\n",
    "if MIXED_PRECISION:\n",
    "    from tensorflow.keras.mixed_precision import experimental as mixed_precision\n",
    "\n",
    "    if tpu:\n",
    "        policy = tf.keras.mixed_precision.experimental.Policy(\"mixed_bfloat16\")\n",
    "    else:\n",
    "        policy = tf.keras.mixed_precision.experimental.Policy(\"mixed_float16\")\n",
    "    mixed_precision.set_policy(policy)\n",
    "    print(\"Mixed precision enabled\")\n",
    "\n",
    "if XLA_ACCELERATE:\n",
    "    tf.config.optimizer.set_jit(True)\n",
    "    print(\"Accelerated Linear Algebra enabled\")"
   ]
  },
  {
   "cell_type": "markdown",
   "metadata": {
    "papermill": {
     "duration": 0.062736,
     "end_time": "2020-10-23T00:35:30.600440",
     "exception": false,
     "start_time": "2020-10-23T00:35:30.537704",
     "status": "completed"
    },
    "tags": []
   },
   "source": [
    "# Functions"
   ]
  },
  {
   "cell_type": "code",
   "execution_count": 5,
   "metadata": {
    "execution": {
     "iopub.execute_input": "2020-10-23T00:35:30.733863Z",
     "iopub.status.busy": "2020-10-23T00:35:30.733129Z",
     "iopub.status.idle": "2020-10-23T00:35:30.736729Z",
     "shell.execute_reply": "2020-10-23T00:35:30.736178Z"
    },
    "papermill": {
     "duration": 0.073631,
     "end_time": "2020-10-23T00:35:30.736829",
     "exception": false,
     "start_time": "2020-10-23T00:35:30.663198",
     "status": "completed"
    },
    "tags": []
   },
   "outputs": [],
   "source": [
    "def fix_seed(seed=2020):\n",
    "    random.seed(seed)\n",
    "    os.environ[\"PYTHONHASHSEED\"] = str(seed)\n",
    "    np.random.seed(seed)\n",
    "    tf.random.set_seed(seed)\n",
    "\n",
    "\n",
    "random_seed = 22\n",
    "fix_seed(random_seed)"
   ]
  },
  {
   "cell_type": "code",
   "execution_count": 6,
   "metadata": {
    "execution": {
     "iopub.execute_input": "2020-10-23T00:35:30.870373Z",
     "iopub.status.busy": "2020-10-23T00:35:30.869493Z",
     "iopub.status.idle": "2020-10-23T00:35:30.872749Z",
     "shell.execute_reply": "2020-10-23T00:35:30.872207Z"
    },
    "papermill": {
     "duration": 0.072076,
     "end_time": "2020-10-23T00:35:30.872847",
     "exception": false,
     "start_time": "2020-10-23T00:35:30.800771",
     "status": "completed"
    },
    "tags": []
   },
   "outputs": [],
   "source": [
    "# https://www.kaggle.com/c/lish-moa/discussion/189857#1043953\n",
    "\n",
    "# Prediction Clipping Thresholds\n",
    "p_min = 0.001\n",
    "p_max = 0.999\n",
    "\n",
    "# Evaluation Metric with clipping and no label smoothing\n",
    "def logloss(y_true, y_pred):\n",
    "    # y_pred = tf.clip_by_value(y_pred, p_min, p_max)\n",
    "    return -K.mean(y_true * K.log(y_pred) + (1 - y_true) * K.log(1 - y_pred))"
   ]
  },
  {
   "cell_type": "code",
   "execution_count": 7,
   "metadata": {
    "execution": {
     "iopub.execute_input": "2020-10-23T00:35:31.009031Z",
     "iopub.status.busy": "2020-10-23T00:35:31.007991Z",
     "iopub.status.idle": "2020-10-23T00:35:31.011106Z",
     "shell.execute_reply": "2020-10-23T00:35:31.010563Z"
    },
    "papermill": {
     "duration": 0.07397,
     "end_time": "2020-10-23T00:35:31.011227",
     "exception": false,
     "start_time": "2020-10-23T00:35:30.937257",
     "status": "completed"
    },
    "tags": []
   },
   "outputs": [],
   "source": [
    "# [Fast Numpy Log Loss] https://www.kaggle.com/gogo827jz/optimise-blending-weights-4-5x-faster-log-loss\n",
    "def metric(y_true, y_pred):\n",
    "    loss = 0\n",
    "    y_pred_clip = np.clip(y_pred, 1e-7, 1 - 1e-7)\n",
    "    for i in range(y_pred.shape[1]):\n",
    "        loss += -np.mean(y_true[:, i] * np.log(y_pred_clip[:, i]) + (1 - y_true[:, i]) * np.log(1 - y_pred_clip[:, i]))\n",
    "    return loss / y_pred.shape[1]"
   ]
  },
  {
   "cell_type": "code",
   "execution_count": 8,
   "metadata": {
    "execution": {
     "iopub.execute_input": "2020-10-23T00:35:31.143580Z",
     "iopub.status.busy": "2020-10-23T00:35:31.142661Z",
     "iopub.status.idle": "2020-10-23T00:35:31.146032Z",
     "shell.execute_reply": "2020-10-23T00:35:31.145319Z"
    },
    "papermill": {
     "duration": 0.071743,
     "end_time": "2020-10-23T00:35:31.146149",
     "exception": false,
     "start_time": "2020-10-23T00:35:31.074406",
     "status": "completed"
    },
    "tags": []
   },
   "outputs": [],
   "source": [
    "def blend(size, weights, oof):\n",
    "    blend_ = np.zeros(size)\n",
    "    for i, key in enumerate(oof.keys()):\n",
    "        blend_ += weights[i] * oof[key].values\n",
    "    return blend_"
   ]
  },
  {
   "cell_type": "markdown",
   "metadata": {
    "papermill": {
     "duration": 0.065571,
     "end_time": "2020-10-23T00:35:31.276153",
     "exception": false,
     "start_time": "2020-10-23T00:35:31.210582",
     "status": "completed"
    },
    "tags": []
   },
   "source": [
    "# Load Data"
   ]
  },
  {
   "cell_type": "code",
   "execution_count": 9,
   "metadata": {
    "execution": {
     "iopub.execute_input": "2020-10-23T00:35:31.415704Z",
     "iopub.status.busy": "2020-10-23T00:35:31.414958Z",
     "iopub.status.idle": "2020-10-23T00:35:37.981536Z",
     "shell.execute_reply": "2020-10-23T00:35:37.980332Z"
    },
    "papermill": {
     "duration": 6.639492,
     "end_time": "2020-10-23T00:35:37.981667",
     "exception": false,
     "start_time": "2020-10-23T00:35:31.342175",
     "status": "completed"
    },
    "tags": []
   },
   "outputs": [],
   "source": [
    "train_df = pd.read_csv(\"../input/lish-moa/train_features.csv\")\n",
    "test_df = pd.read_csv(\"../input/lish-moa/test_features.csv\")\n",
    "target_df = pd.read_csv(\"../input/lish-moa/train_targets_scored.csv\")\n",
    "non_target_df = pd.read_csv(\"../input/lish-moa/train_targets_nonscored.csv\")\n",
    "submit_df = pd.read_csv(\"../input/lish-moa/sample_submission.csv\")"
   ]
  },
  {
   "cell_type": "code",
   "execution_count": 10,
   "metadata": {
    "execution": {
     "iopub.execute_input": "2020-10-23T00:35:38.120395Z",
     "iopub.status.busy": "2020-10-23T00:35:38.118982Z",
     "iopub.status.idle": "2020-10-23T00:35:38.196871Z",
     "shell.execute_reply": "2020-10-23T00:35:38.196276Z"
    },
    "papermill": {
     "duration": 0.150723,
     "end_time": "2020-10-23T00:35:38.196982",
     "exception": false,
     "start_time": "2020-10-23T00:35:38.046259",
     "status": "completed"
    },
    "tags": []
   },
   "outputs": [],
   "source": [
    "train = train_df.copy()\n",
    "test = test_df.copy()\n",
    "ss = submit_df.copy()"
   ]
  },
  {
   "cell_type": "markdown",
   "metadata": {
    "papermill": {
     "duration": 0.107809,
     "end_time": "2020-10-23T00:35:38.379626",
     "exception": false,
     "start_time": "2020-10-23T00:35:38.271817",
     "status": "completed"
    },
    "tags": []
   },
   "source": [
    "# Preprocessing"
   ]
  },
  {
   "cell_type": "code",
   "execution_count": 11,
   "metadata": {
    "execution": {
     "iopub.execute_input": "2020-10-23T00:35:38.625444Z",
     "iopub.status.busy": "2020-10-23T00:35:38.618318Z",
     "iopub.status.idle": "2020-10-23T00:35:38.644281Z",
     "shell.execute_reply": "2020-10-23T00:35:38.645617Z"
    },
    "papermill": {
     "duration": 0.148914,
     "end_time": "2020-10-23T00:35:38.645826",
     "exception": false,
     "start_time": "2020-10-23T00:35:38.496912",
     "status": "completed"
    },
    "tags": []
   },
   "outputs": [],
   "source": [
    "train.loc[:, \"cp_dose\"] = train.loc[:, \"cp_dose\"].map({\"D1\": 0, \"D2\": 1})\n",
    "test.loc[:, \"cp_dose\"] = test.loc[:, \"cp_dose\"].map({\"D1\": 0, \"D2\": 1})\n",
    "\n",
    "train.loc[:, \"cp_time\"] = train.loc[:, \"cp_time\"].map({24: 0, 48: 1, 72: 2})\n",
    "test.loc[:, \"cp_time\"] = test.loc[:, \"cp_time\"].map({24: 0, 48: 1, 72: 2})"
   ]
  },
  {
   "cell_type": "markdown",
   "metadata": {
    "papermill": {
     "duration": 0.097272,
     "end_time": "2020-10-23T00:35:38.841119",
     "exception": false,
     "start_time": "2020-10-23T00:35:38.743847",
     "status": "completed"
    },
    "tags": []
   },
   "source": [
    "## cp_type が ctrl_vehicle なものは MoA を持たない\n",
    "\n",
    "ので、学習から除外する"
   ]
  },
  {
   "cell_type": "code",
   "execution_count": 12,
   "metadata": {
    "execution": {
     "iopub.execute_input": "2020-10-23T00:35:39.048404Z",
     "iopub.status.busy": "2020-10-23T00:35:39.047534Z",
     "iopub.status.idle": "2020-10-23T00:35:39.331373Z",
     "shell.execute_reply": "2020-10-23T00:35:39.332094Z"
    },
    "papermill": {
     "duration": 0.388276,
     "end_time": "2020-10-23T00:35:39.332321",
     "exception": false,
     "start_time": "2020-10-23T00:35:38.944045",
     "status": "completed"
    },
    "tags": []
   },
   "outputs": [],
   "source": [
    "target_df = target_df.loc[train[\"cp_type\"] != \"ctl_vehicle\"].reset_index(drop=True)\n",
    "non_target_df = non_target_df.loc[train[\"cp_type\"] != \"ctl_vehicle\"].reset_index(drop=True)\n",
    "train = train.loc[train[\"cp_type\"] != \"ctl_vehicle\"].reset_index(drop=True)"
   ]
  },
  {
   "cell_type": "code",
   "execution_count": 13,
   "metadata": {
    "execution": {
     "iopub.execute_input": "2020-10-23T00:35:39.523930Z",
     "iopub.status.busy": "2020-10-23T00:35:39.522965Z",
     "iopub.status.idle": "2020-10-23T00:35:39.595372Z",
     "shell.execute_reply": "2020-10-23T00:35:39.594704Z"
    },
    "papermill": {
     "duration": 0.176311,
     "end_time": "2020-10-23T00:35:39.595502",
     "exception": false,
     "start_time": "2020-10-23T00:35:39.419191",
     "status": "completed"
    },
    "tags": []
   },
   "outputs": [],
   "source": [
    "train = train.drop(\"cp_type\", axis=1)\n",
    "test = test.drop(\"cp_type\", axis=1)"
   ]
  },
  {
   "cell_type": "code",
   "execution_count": 14,
   "metadata": {
    "execution": {
     "iopub.execute_input": "2020-10-23T00:35:39.729898Z",
     "iopub.status.busy": "2020-10-23T00:35:39.728963Z",
     "iopub.status.idle": "2020-10-23T00:35:39.735465Z",
     "shell.execute_reply": "2020-10-23T00:35:39.735952Z"
    },
    "papermill": {
     "duration": 0.07649,
     "end_time": "2020-10-23T00:35:39.736089",
     "exception": false,
     "start_time": "2020-10-23T00:35:39.659599",
     "status": "completed"
    },
    "tags": []
   },
   "outputs": [],
   "source": [
    "del train[\"sig_id\"]\n",
    "del target_df[\"sig_id\"]\n",
    "del non_target_df[\"sig_id\"]\n",
    "del test[\"sig_id\"]\n",
    "del ss[\"sig_id\"]"
   ]
  },
  {
   "cell_type": "code",
   "execution_count": 15,
   "metadata": {
    "execution": {
     "iopub.execute_input": "2020-10-23T00:35:39.871449Z",
     "iopub.status.busy": "2020-10-23T00:35:39.869311Z",
     "iopub.status.idle": "2020-10-23T00:35:39.872231Z",
     "shell.execute_reply": "2020-10-23T00:35:39.872810Z"
    },
    "papermill": {
     "duration": 0.072088,
     "end_time": "2020-10-23T00:35:39.872943",
     "exception": false,
     "start_time": "2020-10-23T00:35:39.800855",
     "status": "completed"
    },
    "tags": []
   },
   "outputs": [],
   "source": [
    "#train"
   ]
  },
  {
   "cell_type": "markdown",
   "metadata": {
    "papermill": {
     "duration": 0.063808,
     "end_time": "2020-10-23T00:35:40.000880",
     "exception": false,
     "start_time": "2020-10-23T00:35:39.937072",
     "status": "completed"
    },
    "tags": []
   },
   "source": [
    "## Rank Gauss\n",
    "\n",
    "https://www.kaggle.com/nayuts/moa-pytorch-nn-pca-rankgauss\n",
    "\n",
    "連続値を特定の範囲の閉域に押し込めて、分布の偏りを解消する方法です。"
   ]
  },
  {
   "cell_type": "code",
   "execution_count": 16,
   "metadata": {
    "execution": {
     "iopub.execute_input": "2020-10-23T00:35:40.146258Z",
     "iopub.status.busy": "2020-10-23T00:35:40.145229Z",
     "iopub.status.idle": "2020-10-23T00:35:49.182734Z",
     "shell.execute_reply": "2020-10-23T00:35:49.182065Z"
    },
    "papermill": {
     "duration": 9.117677,
     "end_time": "2020-10-23T00:35:49.182888",
     "exception": false,
     "start_time": "2020-10-23T00:35:40.065211",
     "status": "completed"
    },
    "tags": []
   },
   "outputs": [],
   "source": [
    "g_cols = [col for col in train_df.columns if col.startswith(\"g-\")]\n",
    "c_cols = [col for col in train_df.columns if col.startswith(\"c-\")]\n",
    "\n",
    "for col in g_cols + c_cols:\n",
    "    transformer = QuantileTransformer(n_quantiles=100, random_state=random_seed, output_distribution=\"normal\")\n",
    "\n",
    "    vec_len = len(train[col].values)\n",
    "    vec_len_test = len(test[col].values)\n",
    "\n",
    "    raw_vec = train[col].values.reshape(vec_len, 1)\n",
    "    transformer.fit(raw_vec)\n",
    "\n",
    "    train[col] = transformer.transform(raw_vec).reshape(1, vec_len)[0]\n",
    "    test[col] = transformer.transform(test[col].values.reshape(vec_len_test, 1)).reshape(1, vec_len_test)[0]"
   ]
  },
  {
   "cell_type": "code",
   "execution_count": 17,
   "metadata": {
    "execution": {
     "iopub.execute_input": "2020-10-23T00:35:49.366037Z",
     "iopub.status.busy": "2020-10-23T00:35:49.365052Z",
     "iopub.status.idle": "2020-10-23T00:35:49.369634Z",
     "shell.execute_reply": "2020-10-23T00:35:49.369118Z"
    },
    "papermill": {
     "duration": 0.121922,
     "end_time": "2020-10-23T00:35:49.369773",
     "exception": false,
     "start_time": "2020-10-23T00:35:49.247851",
     "status": "completed"
    },
    "tags": []
   },
   "outputs": [],
   "source": [
    "#train"
   ]
  },
  {
   "cell_type": "markdown",
   "metadata": {
    "papermill": {
     "duration": 0.090392,
     "end_time": "2020-10-23T00:35:49.554688",
     "exception": false,
     "start_time": "2020-10-23T00:35:49.464296",
     "status": "completed"
    },
    "tags": []
   },
   "source": [
    "## PCA features (+ Existing features)\n",
    "\n",
    "既存のカラムは残したほうがいいのだろうか？？\n",
    "→ このコンペでは残したほうがいい成績が出ている。"
   ]
  },
  {
   "cell_type": "code",
   "execution_count": 18,
   "metadata": {
    "execution": {
     "iopub.execute_input": "2020-10-23T00:35:49.803957Z",
     "iopub.status.busy": "2020-10-23T00:35:49.792706Z",
     "iopub.status.idle": "2020-10-23T00:35:52.256803Z",
     "shell.execute_reply": "2020-10-23T00:35:52.256156Z"
    },
    "papermill": {
     "duration": 2.611419,
     "end_time": "2020-10-23T00:35:52.256918",
     "exception": false,
     "start_time": "2020-10-23T00:35:49.645499",
     "status": "completed"
    },
    "tags": []
   },
   "outputs": [],
   "source": [
    "# g-\n",
    "n_comp = 50\n",
    "\n",
    "data = pd.concat([pd.DataFrame(train[g_cols]), pd.DataFrame(test[g_cols])])\n",
    "data2 = PCA(n_components=n_comp, random_state=random_seed).fit_transform(data[g_cols])\n",
    "train2 = data2[: train.shape[0]]\n",
    "test2 = data2[-test.shape[0] :]\n",
    "\n",
    "train2 = pd.DataFrame(train2, columns=[f\"pca_G-{i}\" for i in range(n_comp)])\n",
    "test2 = pd.DataFrame(test2, columns=[f\"pca_G-{i}\" for i in range(n_comp)])\n",
    "\n",
    "train = pd.concat((train, train2), axis=1)\n",
    "test = pd.concat((test, test2), axis=1)"
   ]
  },
  {
   "cell_type": "code",
   "execution_count": 19,
   "metadata": {
    "execution": {
     "iopub.execute_input": "2020-10-23T00:35:52.407860Z",
     "iopub.status.busy": "2020-10-23T00:35:52.406453Z",
     "iopub.status.idle": "2020-10-23T00:35:52.763505Z",
     "shell.execute_reply": "2020-10-23T00:35:52.762902Z"
    },
    "papermill": {
     "duration": 0.441937,
     "end_time": "2020-10-23T00:35:52.763628",
     "exception": false,
     "start_time": "2020-10-23T00:35:52.321691",
     "status": "completed"
    },
    "tags": []
   },
   "outputs": [],
   "source": [
    "# c-\n",
    "n_comp = 15\n",
    "\n",
    "data = pd.concat([pd.DataFrame(train[c_cols]), pd.DataFrame(test[c_cols])])\n",
    "data2 = PCA(n_components=n_comp, random_state=random_seed).fit_transform(data[c_cols])\n",
    "train2 = data2[: train.shape[0]]\n",
    "test2 = data2[-test.shape[0] :]\n",
    "\n",
    "train2 = pd.DataFrame(train2, columns=[f\"pca_C-{i}\" for i in range(n_comp)])\n",
    "test2 = pd.DataFrame(test2, columns=[f\"pca_C-{i}\" for i in range(n_comp)])\n",
    "\n",
    "train = pd.concat((train, train2), axis=1)\n",
    "test = pd.concat((test, test2), axis=1)"
   ]
  },
  {
   "cell_type": "code",
   "execution_count": 20,
   "metadata": {
    "execution": {
     "iopub.execute_input": "2020-10-23T00:35:52.894859Z",
     "iopub.status.busy": "2020-10-23T00:35:52.893082Z",
     "iopub.status.idle": "2020-10-23T00:35:52.895573Z",
     "shell.execute_reply": "2020-10-23T00:35:52.896083Z"
    },
    "papermill": {
     "duration": 0.069914,
     "end_time": "2020-10-23T00:35:52.896212",
     "exception": false,
     "start_time": "2020-10-23T00:35:52.826298",
     "status": "completed"
    },
    "tags": []
   },
   "outputs": [],
   "source": [
    "#train"
   ]
  },
  {
   "cell_type": "code",
   "execution_count": 21,
   "metadata": {
    "execution": {
     "iopub.execute_input": "2020-10-23T00:35:53.028216Z",
     "iopub.status.busy": "2020-10-23T00:35:53.026905Z",
     "iopub.status.idle": "2020-10-23T00:35:53.251277Z",
     "shell.execute_reply": "2020-10-23T00:35:53.250605Z"
    },
    "papermill": {
     "duration": 0.293418,
     "end_time": "2020-10-23T00:35:53.251397",
     "exception": false,
     "start_time": "2020-10-23T00:35:52.957979",
     "status": "completed"
    },
    "tags": []
   },
   "outputs": [],
   "source": [
    "train_pca = train.copy()\n",
    "test_pca = test.copy()\n",
    "\n",
    "train_pca.drop(g_cols, axis=1, inplace=True)\n",
    "test_pca.drop(g_cols, axis=1, inplace=True)\n",
    "\n",
    "train_pca.drop(c_cols, axis=1, inplace=True)\n",
    "test_pca.drop(c_cols, axis=1, inplace=True)"
   ]
  },
  {
   "cell_type": "code",
   "execution_count": 22,
   "metadata": {
    "execution": {
     "iopub.execute_input": "2020-10-23T00:35:53.387746Z",
     "iopub.status.busy": "2020-10-23T00:35:53.386910Z",
     "iopub.status.idle": "2020-10-23T00:35:53.389606Z",
     "shell.execute_reply": "2020-10-23T00:35:53.390147Z"
    },
    "papermill": {
     "duration": 0.074662,
     "end_time": "2020-10-23T00:35:53.390289",
     "exception": false,
     "start_time": "2020-10-23T00:35:53.315627",
     "status": "completed"
    },
    "tags": []
   },
   "outputs": [],
   "source": [
    "#train_pca"
   ]
  },
  {
   "cell_type": "markdown",
   "metadata": {
    "papermill": {
     "duration": 0.063584,
     "end_time": "2020-10-23T00:35:53.518171",
     "exception": false,
     "start_time": "2020-10-23T00:35:53.454587",
     "status": "completed"
    },
    "tags": []
   },
   "source": [
    "## feature Selection using Variance Encoding\n",
    "\n",
    "分散がしきい値以下の特徴量を捨てます。"
   ]
  },
  {
   "cell_type": "code",
   "execution_count": 23,
   "metadata": {
    "execution": {
     "iopub.execute_input": "2020-10-23T00:35:53.672822Z",
     "iopub.status.busy": "2020-10-23T00:35:53.671265Z",
     "iopub.status.idle": "2020-10-23T00:35:54.275164Z",
     "shell.execute_reply": "2020-10-23T00:35:54.274453Z"
    },
    "papermill": {
     "duration": 0.68672,
     "end_time": "2020-10-23T00:35:54.275286",
     "exception": false,
     "start_time": "2020-10-23T00:35:53.588566",
     "status": "completed"
    },
    "tags": []
   },
   "outputs": [],
   "source": [
    "var_thresh = VarianceThreshold(threshold=0.5)\n",
    "\n",
    "data = train.append(test)\n",
    "data_transformed = var_thresh.fit_transform(data.iloc[:, 2:])\n",
    "\n",
    "train_transformed = data_transformed[: train.shape[0]]\n",
    "test_transformed = data_transformed[-test.shape[0] :]\n",
    "\n",
    "\n",
    "train = pd.DataFrame(train[[\"cp_time\", \"cp_dose\"]].values.reshape(-1, 2), columns=[\"cp_time\", \"cp_dose\"])\n",
    "train = pd.concat([train, pd.DataFrame(train_transformed)], axis=1, ignore_index=True)\n",
    "\n",
    "\n",
    "test = pd.DataFrame(test[[\"cp_time\", \"cp_dose\"]].values.reshape(-1, 2), columns=[\"cp_time\", \"cp_dose\"])\n",
    "test = pd.concat([test, pd.DataFrame(test_transformed)], axis=1, ignore_index=True)"
   ]
  },
  {
   "cell_type": "code",
   "execution_count": 24,
   "metadata": {
    "execution": {
     "iopub.execute_input": "2020-10-23T00:35:54.414379Z",
     "iopub.status.busy": "2020-10-23T00:35:54.412302Z",
     "iopub.status.idle": "2020-10-23T00:35:54.415126Z",
     "shell.execute_reply": "2020-10-23T00:35:54.415677Z"
    },
    "papermill": {
     "duration": 0.072657,
     "end_time": "2020-10-23T00:35:54.415838",
     "exception": false,
     "start_time": "2020-10-23T00:35:54.343181",
     "status": "completed"
    },
    "tags": []
   },
   "outputs": [],
   "source": [
    "#train"
   ]
  },
  {
   "cell_type": "markdown",
   "metadata": {
    "papermill": {
     "duration": 0.063605,
     "end_time": "2020-10-23T00:35:54.544986",
     "exception": false,
     "start_time": "2020-10-23T00:35:54.481381",
     "status": "completed"
    },
    "tags": []
   },
   "source": [
    "# Create Model"
   ]
  },
  {
   "cell_type": "code",
   "execution_count": 25,
   "metadata": {
    "execution": {
     "iopub.execute_input": "2020-10-23T00:35:54.679337Z",
     "iopub.status.busy": "2020-10-23T00:35:54.677278Z",
     "iopub.status.idle": "2020-10-23T00:35:54.680088Z",
     "shell.execute_reply": "2020-10-23T00:35:54.680657Z"
    },
    "papermill": {
     "duration": 0.073584,
     "end_time": "2020-10-23T00:35:54.680810",
     "exception": false,
     "start_time": "2020-10-23T00:35:54.607226",
     "status": "completed"
    },
    "tags": []
   },
   "outputs": [],
   "source": [
    "def create_model_simple_nn(num_col, output_dim):\n",
    "    model = tf.keras.Sequential(\n",
    "        [\n",
    "            L.Input(num_col),\n",
    "            L.BatchNormalization(),\n",
    "            L.Dropout(0.2),\n",
    "            tfa.layers.WeightNormalization(L.Dense(2048, activation=\"relu\")),\n",
    "            L.BatchNormalization(),\n",
    "            L.Dropout(0.5),\n",
    "            tfa.layers.WeightNormalization(L.Dense(1024, activation=\"relu\")),\n",
    "            L.BatchNormalization(),\n",
    "            L.Dropout(0.5),\n",
    "            tfa.layers.WeightNormalization(L.Dense(output_dim, activation=\"sigmoid\")),\n",
    "        ]\n",
    "    )\n",
    "\n",
    "    return model"
   ]
  },
  {
   "cell_type": "markdown",
   "metadata": {
    "papermill": {
     "duration": 0.064297,
     "end_time": "2020-10-23T00:35:54.806835",
     "exception": false,
     "start_time": "2020-10-23T00:35:54.742538",
     "status": "completed"
    },
    "tags": []
   },
   "source": [
    "# Create Model - Split Neural Network\n",
    "\n",
    "https://www.kaggle.com/gogo827jz/split-neural-network-approach-tf-keras"
   ]
  },
  {
   "cell_type": "code",
   "execution_count": 26,
   "metadata": {
    "execution": {
     "iopub.execute_input": "2020-10-23T00:35:54.993579Z",
     "iopub.status.busy": "2020-10-23T00:35:54.980920Z",
     "iopub.status.idle": "2020-10-23T00:35:54.996070Z",
     "shell.execute_reply": "2020-10-23T00:35:54.996661Z"
    },
    "papermill": {
     "duration": 0.088711,
     "end_time": "2020-10-23T00:35:54.996808",
     "exception": false,
     "start_time": "2020-10-23T00:35:54.908097",
     "status": "completed"
    },
    "tags": []
   },
   "outputs": [],
   "source": [
    "def create_split_nn(num_columns, hidden_units, dropout_rate, output_dim):\n",
    "\n",
    "    inp1 = L.Input(shape=(num_columns,))\n",
    "    x1 = L.BatchNormalization()(inp1)\n",
    "\n",
    "    for i, units in enumerate(hidden_units[0]):\n",
    "        x1 = tfa.layers.WeightNormalization(L.Dense(units, activation=\"elu\"))(x1)\n",
    "        x1 = L.Dropout(dropout_rate[0])(x1)\n",
    "        x1 = L.BatchNormalization()(x1)\n",
    "\n",
    "    inp2 = L.Input(shape=(num_columns,))\n",
    "    x2 = L.BatchNormalization()(inp2)\n",
    "\n",
    "    for i, units in enumerate(hidden_units[1]):\n",
    "        x2 = tfa.layers.WeightNormalization(L.Dense(units, activation=\"elu\"))(x2)\n",
    "        x2 = L.Dropout(dropout_rate[1])(x2)\n",
    "        x2 = L.BatchNormalization()(x2)\n",
    "\n",
    "    inp3 = L.Input(shape=(num_columns,))\n",
    "    x3 = L.BatchNormalization()(inp3)\n",
    "\n",
    "    for i, units in enumerate(hidden_units[2]):\n",
    "        x3 = tfa.layers.WeightNormalization(L.Dense(units, activation=\"elu\"))(x3)\n",
    "        x3 = L.Dropout(dropout_rate[2])(x3)\n",
    "        x3 = L.BatchNormalization()(x3)\n",
    "\n",
    "    x = L.Concatenate()([x1, x2, x3])\n",
    "    x = L.Dropout(dropout_rate[3])(x)\n",
    "    x = L.BatchNormalization()(x)\n",
    "\n",
    "    for units in hidden_units[3]:\n",
    "\n",
    "        x = tfa.layers.WeightNormalization(L.Dense(units, activation=\"elu\"))(x)\n",
    "        x = L.Dropout(dropout_rate[4])(x)\n",
    "        x = L.BatchNormalization()(x)\n",
    "\n",
    "    out = tfa.layers.WeightNormalization(L.Dense(output_dim, activation=\"sigmoid\"))(x)\n",
    "\n",
    "    model = tf.keras.models.Model(inputs=[inp1, inp2, inp3], outputs=out)\n",
    "\n",
    "    return model"
   ]
  },
  {
   "cell_type": "code",
   "execution_count": 27,
   "metadata": {
    "execution": {
     "iopub.execute_input": "2020-10-23T00:35:55.131320Z",
     "iopub.status.busy": "2020-10-23T00:35:55.130355Z",
     "iopub.status.idle": "2020-10-23T00:35:55.133392Z",
     "shell.execute_reply": "2020-10-23T00:35:55.132785Z"
    },
    "papermill": {
     "duration": 0.07314,
     "end_time": "2020-10-23T00:35:55.133490",
     "exception": false,
     "start_time": "2020-10-23T00:35:55.060350",
     "status": "completed"
    },
    "tags": []
   },
   "outputs": [],
   "source": [
    "def create_model_split_nn(num_col, output_dim):\n",
    "    hidden_units = [[2048, 512], [1024, 1024], [1024, 512], [512, 512]]\n",
    "    dropout_rate = [0.4, 0.35, 0.3, 0.3, 0.2]\n",
    "    size = int(np.ceil(0.8 * num_col))\n",
    "\n",
    "    model = create_split_nn(size, hidden_units, dropout_rate, output_dim)\n",
    "    return model"
   ]
  },
  {
   "cell_type": "markdown",
   "metadata": {
    "papermill": {
     "duration": 0.070926,
     "end_time": "2020-10-23T00:35:55.268068",
     "exception": false,
     "start_time": "2020-10-23T00:35:55.197142",
     "status": "completed"
    },
    "tags": []
   },
   "source": [
    "# Create Model - Multi input ResNet\n",
    "\n",
    "https://www.kaggle.com/rahulsd91/moa-multi-input-resnet-model"
   ]
  },
  {
   "cell_type": "code",
   "execution_count": 28,
   "metadata": {
    "execution": {
     "iopub.execute_input": "2020-10-23T00:35:55.420409Z",
     "iopub.status.busy": "2020-10-23T00:35:55.419411Z",
     "iopub.status.idle": "2020-10-23T00:35:55.422677Z",
     "shell.execute_reply": "2020-10-23T00:35:55.422178Z"
    },
    "papermill": {
     "duration": 0.08876,
     "end_time": "2020-10-23T00:35:55.422824",
     "exception": false,
     "start_time": "2020-10-23T00:35:55.334064",
     "status": "completed"
    },
    "tags": []
   },
   "outputs": [],
   "source": [
    "def create_model_resnet(n_features, n_features_2, n_labels):\n",
    "    input_1 = L.Input(shape=(n_features,), name=\"Input1\")\n",
    "    input_2 = L.Input(shape=(n_features_2,), name=\"Input2\")\n",
    "\n",
    "    head_1 = tf.keras.Sequential(\n",
    "        [\n",
    "            L.BatchNormalization(),\n",
    "            L.Dropout(0.2),\n",
    "            tfa.layers.WeightNormalization(L.Dense(512, activation=\"elu\")),\n",
    "            L.BatchNormalization(),\n",
    "            L.Dropout(0.2),\n",
    "            tfa.layers.WeightNormalization(L.Dense(256, activation=\"elu\")),\n",
    "        ],\n",
    "        name=\"Head1\",\n",
    "    )\n",
    "\n",
    "    input_3 = head_1(input_1)\n",
    "    input_3_concat = L.Concatenate()([input_2, input_3])\n",
    "\n",
    "    head_2 = tf.keras.Sequential(\n",
    "        [\n",
    "            L.BatchNormalization(),\n",
    "            L.Dropout(0.3),\n",
    "            tfa.layers.WeightNormalization(L.Dense(512, activation=\"relu\")),\n",
    "            L.BatchNormalization(),\n",
    "            L.Dropout(0.2),\n",
    "            tfa.layers.WeightNormalization(L.Dense(512, activation=\"elu\")),\n",
    "            L.BatchNormalization(),\n",
    "            L.Dropout(0.2),\n",
    "            tfa.layers.WeightNormalization(L.Dense(256, activation=\"relu\")),\n",
    "            L.BatchNormalization(),\n",
    "            L.Dropout(0.2),\n",
    "            tfa.layers.WeightNormalization(L.Dense(256, activation=\"elu\")),\n",
    "        ],\n",
    "        name=\"Head2\",\n",
    "    )\n",
    "\n",
    "    input_4 = head_2(input_3_concat)\n",
    "    input_4_avg = L.Average()([input_3, input_4])\n",
    "\n",
    "    head_3 = tf.keras.Sequential(\n",
    "        [\n",
    "            L.BatchNormalization(),\n",
    "            tfa.layers.WeightNormalization(L.Dense(256, activation=\"selu\")),\n",
    "            L.BatchNormalization(),\n",
    "            L.Dropout(0.2),\n",
    "            tfa.layers.WeightNormalization(L.Dense(256, activation=\"selu\")),\n",
    "            L.BatchNormalization(),\n",
    "            L.Dense(n_labels, activation=\"sigmoid\"),\n",
    "        ],\n",
    "        name=\"Head3\",\n",
    "    )\n",
    "\n",
    "    output = head_3(input_4_avg)\n",
    "\n",
    "    model = tf.keras.models.Model(inputs=[input_1, input_2], outputs=output)\n",
    "\n",
    "    return model"
   ]
  },
  {
   "cell_type": "markdown",
   "metadata": {
    "papermill": {
     "duration": 0.064406,
     "end_time": "2020-10-23T00:35:55.551322",
     "exception": false,
     "start_time": "2020-10-23T00:35:55.486916",
     "status": "completed"
    },
    "tags": []
   },
   "source": [
    "# Create Model - NODE\n",
    "\n",
    "Neural Oblivious Decision Ensembles\n",
    "\n",
    "https://www.kaggle.com/gogo827jz/moa-neural-oblivious-decision-ensembles-tf-keras"
   ]
  },
  {
   "cell_type": "code",
   "execution_count": 29,
   "metadata": {
    "execution": {
     "iopub.execute_input": "2020-10-23T00:35:55.685749Z",
     "iopub.status.busy": "2020-10-23T00:35:55.684870Z",
     "iopub.status.idle": "2020-10-23T00:35:55.688290Z",
     "shell.execute_reply": "2020-10-23T00:35:55.688842Z"
    },
    "papermill": {
     "duration": 0.073565,
     "end_time": "2020-10-23T00:35:55.688978",
     "exception": false,
     "start_time": "2020-10-23T00:35:55.615413",
     "status": "completed"
    },
    "tags": []
   },
   "outputs": [],
   "source": [
    "@tf.function\n",
    "def sparsemoid(inputs: tf.Tensor):\n",
    "    return tf.clip_by_value(0.5 * inputs + 0.5, 0.0, 1.0)"
   ]
  },
  {
   "cell_type": "code",
   "execution_count": 30,
   "metadata": {
    "execution": {
     "iopub.execute_input": "2020-10-23T00:35:55.823192Z",
     "iopub.status.busy": "2020-10-23T00:35:55.821241Z",
     "iopub.status.idle": "2020-10-23T00:35:55.823969Z",
     "shell.execute_reply": "2020-10-23T00:35:55.824508Z"
    },
    "papermill": {
     "duration": 0.072709,
     "end_time": "2020-10-23T00:35:55.824637",
     "exception": false,
     "start_time": "2020-10-23T00:35:55.751928",
     "status": "completed"
    },
    "tags": []
   },
   "outputs": [],
   "source": [
    "@tf.function\n",
    "def identity(x: tf.Tensor):\n",
    "    return x"
   ]
  },
  {
   "cell_type": "code",
   "execution_count": 31,
   "metadata": {
    "execution": {
     "iopub.execute_input": "2020-10-23T00:35:55.984140Z",
     "iopub.status.busy": "2020-10-23T00:35:55.973578Z",
     "iopub.status.idle": "2020-10-23T00:35:55.990893Z",
     "shell.execute_reply": "2020-10-23T00:35:55.990286Z"
    },
    "papermill": {
     "duration": 0.100126,
     "end_time": "2020-10-23T00:35:55.990997",
     "exception": false,
     "start_time": "2020-10-23T00:35:55.890871",
     "status": "completed"
    },
    "tags": []
   },
   "outputs": [],
   "source": [
    "class ODST(L.Layer):\n",
    "    def __init__(self, n_trees: int = 3, depth: int = 4, units: int = 1, threshold_init_beta: float = 1.0):\n",
    "        super(ODST, self).__init__()\n",
    "        self.initialized = False\n",
    "        self.n_trees = n_trees\n",
    "        self.depth = depth\n",
    "        self.units = units\n",
    "        self.threshold_init_beta = threshold_init_beta\n",
    "\n",
    "    def build(self, input_shape: tf.TensorShape):\n",
    "        feature_selection_logits_init = tf.zeros_initializer()\n",
    "        self.feature_selection_logits = tf.Variable(\n",
    "            initial_value=feature_selection_logits_init(\n",
    "                shape=(input_shape[-1], self.n_trees, self.depth), dtype=\"float32\"\n",
    "            ),\n",
    "            trainable=True,\n",
    "            name=\"feature_selection_logits\",\n",
    "        )\n",
    "\n",
    "        feature_thresholds_init = tf.zeros_initializer()\n",
    "        self.feature_thresholds = tf.Variable(\n",
    "            initial_value=feature_thresholds_init(shape=(self.n_trees, self.depth), dtype=\"float32\"),\n",
    "            trainable=True,\n",
    "            name=\"feature_thresholds\",\n",
    "        )\n",
    "\n",
    "        log_temperatures_init = tf.ones_initializer()\n",
    "        self.log_temperatures = tf.Variable(\n",
    "            initial_value=log_temperatures_init(shape=(self.n_trees, self.depth), dtype=\"float32\"),\n",
    "            trainable=True,\n",
    "            name=\"log_temperatures\",\n",
    "        )\n",
    "\n",
    "        indices = K.arange(0, 2 ** self.depth, 1)\n",
    "        offsets = 2 ** K.arange(0, self.depth, 1)\n",
    "        bin_codes = tf.reshape(indices, (1, -1)) // tf.reshape(offsets, (-1, 1)) % 2\n",
    "        bin_codes_1hot = tf.stack([bin_codes, 1 - bin_codes], axis=-1)\n",
    "        self.bin_codes_1hot = tf.Variable(\n",
    "            initial_value=tf.cast(bin_codes_1hot, \"float32\"), trainable=False, name=\"bin_codes_1hot\"\n",
    "        )\n",
    "\n",
    "        response_init = tf.ones_initializer()\n",
    "        self.response = tf.Variable(\n",
    "            initial_value=response_init(shape=(self.n_trees, self.units, 2 ** self.depth), dtype=\"float32\"),\n",
    "            trainable=True,\n",
    "            name=\"response\",\n",
    "        )\n",
    "\n",
    "    def initialize(self, inputs):\n",
    "        feature_values = self.feature_values(inputs)\n",
    "\n",
    "        # intialize feature_thresholds\n",
    "        percentiles_q = 100 * tfp.distributions.Beta(self.threshold_init_beta, self.threshold_init_beta).sample(\n",
    "            [self.n_trees * self.depth]\n",
    "        )\n",
    "        flattened_feature_values = tf.map_fn(K.flatten, feature_values)\n",
    "        init_feature_thresholds = tf.linalg.diag_part(\n",
    "            tfp.stats.percentile(flattened_feature_values, percentiles_q, axis=0)\n",
    "        )\n",
    "\n",
    "        self.feature_thresholds.assign(tf.reshape(init_feature_thresholds, self.feature_thresholds.shape))\n",
    "\n",
    "        # intialize log_temperatures\n",
    "        self.log_temperatures.assign(\n",
    "            tfp.stats.percentile(tf.math.abs(feature_values - self.feature_thresholds), 50, axis=0)\n",
    "        )\n",
    "\n",
    "    def feature_values(self, inputs: tf.Tensor, training: bool = None):\n",
    "        feature_selectors = tfa.activations.sparsemax(self.feature_selection_logits)\n",
    "        # ^--[in_features, n_trees, depth]\n",
    "\n",
    "        feature_values = tf.einsum(\"bi,ind->bnd\", inputs, feature_selectors)\n",
    "        # ^--[batch_size, n_trees, depth]\n",
    "\n",
    "        return feature_values\n",
    "\n",
    "    def call(self, inputs: tf.Tensor, training: bool = None):\n",
    "        if not self.initialized:\n",
    "            self.initialize(inputs)\n",
    "            self.initialized = True\n",
    "\n",
    "        feature_values = self.feature_values(inputs)\n",
    "\n",
    "        threshold_logits_a = (feature_values - self.feature_thresholds) * tf.math.exp(-self.log_temperatures)\n",
    "\n",
    "        threshold_logits_b = tf.stack([-threshold_logits_a, threshold_logits_a], axis=-1)\n",
    "        # ^--[batch_size, n_trees, depth, 2]\n",
    "\n",
    "        bins = sparsemoid(threshold_logits_b)\n",
    "        # ^--[batch_size, n_trees, depth, 2], approximately binary\n",
    "\n",
    "        bin_matches = tf.einsum(\"btds,dcs->btdc\", bins, self.bin_codes_1hot)\n",
    "        # ^--[batch_size, n_trees, depth, 2 ** depth]\n",
    "\n",
    "        response_weights = tf.math.reduce_prod(bin_matches, axis=-2)\n",
    "        # ^-- [batch_size, n_trees, 2 ** depth]\n",
    "\n",
    "        response = tf.einsum(\"bnd,ncd->bnc\", response_weights, self.response)\n",
    "        # ^-- [batch_size, n_trees, units]\n",
    "\n",
    "        return tf.reduce_sum(response, axis=1)"
   ]
  },
  {
   "cell_type": "code",
   "execution_count": 32,
   "metadata": {
    "execution": {
     "iopub.execute_input": "2020-10-23T00:35:56.141061Z",
     "iopub.status.busy": "2020-10-23T00:35:56.140078Z",
     "iopub.status.idle": "2020-10-23T00:35:56.142578Z",
     "shell.execute_reply": "2020-10-23T00:35:56.143209Z"
    },
    "papermill": {
     "duration": 0.089106,
     "end_time": "2020-10-23T00:35:56.143329",
     "exception": false,
     "start_time": "2020-10-23T00:35:56.054223",
     "status": "completed"
    },
    "tags": []
   },
   "outputs": [],
   "source": [
    "class NODE(tf.keras.Model):\n",
    "    def __init__(\n",
    "        self,\n",
    "        units: int = 1,\n",
    "        n_layers: int = 1,\n",
    "        output_dim=1,\n",
    "        dropout_rate=0.1,\n",
    "        link: tf.function = tf.identity,\n",
    "        n_trees: int = 3,\n",
    "        depth: int = 4,\n",
    "        threshold_init_beta: float = 1.0,\n",
    "        feature_column: Optional[L.DenseFeatures] = None,\n",
    "    ):\n",
    "        super(NODE, self).__init__()\n",
    "        self.units = units\n",
    "        self.n_layers = n_layers\n",
    "        self.n_trees = n_trees\n",
    "        self.depth = depth\n",
    "        self.units = units\n",
    "        self.threshold_init_beta = threshold_init_beta\n",
    "        self.feature_column = feature_column\n",
    "        self.dropout_rate = dropout_rate\n",
    "        self.output_dim = output_dim\n",
    "\n",
    "        if feature_column is None:\n",
    "            self.feature = L.Lambda(identity)\n",
    "        else:\n",
    "            self.feature = feature_column\n",
    "\n",
    "        self.bn = [L.BatchNormalization() for _ in range(n_layers + 1)]\n",
    "        self.dropout = [L.Dropout(self.dropout_rate) for _ in range(n_layers + 1)]\n",
    "        self.ensemble = [\n",
    "            ODST(n_trees=n_trees, depth=depth, units=units, threshold_init_beta=threshold_init_beta)\n",
    "            for _ in range(n_layers)\n",
    "        ]\n",
    "\n",
    "        self.last_layer = L.Dense(self.output_dim)\n",
    "\n",
    "        self.link = link\n",
    "\n",
    "    def call(self, inputs, training=None):\n",
    "        X_a = self.feature(inputs)\n",
    "        X_b = self.bn[0](X_a, training=training)\n",
    "        X_c = self.dropout[0](X_b, training=training)\n",
    "\n",
    "        X = defaultdict(dict)\n",
    "        X[0][0] = X_c\n",
    "        for i, tree in enumerate(self.ensemble):\n",
    "            X[i][1] = tf.concat([X[i][0], tree(X[i][0])], axis=1)\n",
    "            X[i][2] = self.bn[i + 1](X[i][1], training=training)\n",
    "            X[i + 1][0] = self.dropout[i + 1](X[i][2], training=training)\n",
    "\n",
    "        return self.link(self.last_layer(X[i + 1][0]))"
   ]
  },
  {
   "cell_type": "code",
   "execution_count": 33,
   "metadata": {
    "execution": {
     "iopub.execute_input": "2020-10-23T00:35:56.276399Z",
     "iopub.status.busy": "2020-10-23T00:35:56.275502Z",
     "iopub.status.idle": "2020-10-23T00:35:56.278615Z",
     "shell.execute_reply": "2020-10-23T00:35:56.278089Z"
    },
    "papermill": {
     "duration": 0.073117,
     "end_time": "2020-10-23T00:35:56.278769",
     "exception": false,
     "start_time": "2020-10-23T00:35:56.205652",
     "status": "completed"
    },
    "tags": []
   },
   "outputs": [],
   "source": [
    "def create_model_node(output_dim):\n",
    "    model = NODE(\n",
    "        n_layers=3,\n",
    "        units=128,\n",
    "        output_dim=output_dim,\n",
    "        dropout_rate=0.1,\n",
    "        depth=6,\n",
    "        n_trees=3,\n",
    "        link=tf.keras.activations.sigmoid,\n",
    "    )\n",
    "\n",
    "    return model"
   ]
  },
  {
   "cell_type": "markdown",
   "metadata": {
    "papermill": {
     "duration": 0.064356,
     "end_time": "2020-10-23T00:35:56.409261",
     "exception": false,
     "start_time": "2020-10-23T00:35:56.344905",
     "status": "completed"
    },
    "tags": []
   },
   "source": [
    "# Create Model - TabNet for MultiLabel\n",
    "\n",
    "https://www.kaggle.com/gogo827jz/moa-stacked-tabnet-baseline-tensorflow-2-0#Model-Functions\n",
    "\n",
    "TabNetとは。\n",
    "https://cloud.google.com/blog/ja/products/ai-machine-learning/ml-model-tabnet-is-easy-to-use-on-cloud-ai-platform"
   ]
  },
  {
   "cell_type": "code",
   "execution_count": 34,
   "metadata": {
    "execution": {
     "iopub.execute_input": "2020-10-23T00:35:56.544580Z",
     "iopub.status.busy": "2020-10-23T00:35:56.542458Z",
     "iopub.status.idle": "2020-10-23T00:35:56.545434Z",
     "shell.execute_reply": "2020-10-23T00:35:56.545990Z"
    },
    "papermill": {
     "duration": 0.073711,
     "end_time": "2020-10-23T00:35:56.546122",
     "exception": false,
     "start_time": "2020-10-23T00:35:56.472411",
     "status": "completed"
    },
    "tags": []
   },
   "outputs": [],
   "source": [
    "def register_keras_custom_object(cls):\n",
    "    tf.keras.utils.get_custom_objects()[cls.__name__] = cls\n",
    "    return cls"
   ]
  },
  {
   "cell_type": "code",
   "execution_count": 35,
   "metadata": {
    "execution": {
     "iopub.execute_input": "2020-10-23T00:35:56.677511Z",
     "iopub.status.busy": "2020-10-23T00:35:56.676704Z",
     "iopub.status.idle": "2020-10-23T00:35:56.680636Z",
     "shell.execute_reply": "2020-10-23T00:35:56.680087Z"
    },
    "papermill": {
     "duration": 0.072001,
     "end_time": "2020-10-23T00:35:56.680760",
     "exception": false,
     "start_time": "2020-10-23T00:35:56.608759",
     "status": "completed"
    },
    "tags": []
   },
   "outputs": [],
   "source": [
    "def glu(x, n_units=None):\n",
    "    \"\"\"Generalized linear unit nonlinear activation.\"\"\"\n",
    "    if n_units is None:\n",
    "        n_units = tf.shape(x)[-1] // 2\n",
    "\n",
    "    return x[..., :n_units] * tf.nn.sigmoid(x[..., n_units:])"
   ]
  },
  {
   "cell_type": "code",
   "execution_count": 36,
   "metadata": {
    "execution": {
     "iopub.execute_input": "2020-10-23T00:35:56.821535Z",
     "iopub.status.busy": "2020-10-23T00:35:56.820519Z",
     "iopub.status.idle": "2020-10-23T00:35:56.833418Z",
     "shell.execute_reply": "2020-10-23T00:35:56.835249Z"
    },
    "papermill": {
     "duration": 0.09229,
     "end_time": "2020-10-23T00:35:56.835541",
     "exception": false,
     "start_time": "2020-10-23T00:35:56.743251",
     "status": "completed"
    },
    "tags": []
   },
   "outputs": [],
   "source": [
    "\"\"\"\n",
    "Code replicated from https://github.com/tensorflow/addons/blob/master/tensorflow_addons/activations/sparsemax.py\n",
    "\"\"\"\n",
    "\n",
    "\n",
    "@register_keras_custom_object\n",
    "@tf.function\n",
    "def sparsemax(logits, axis):\n",
    "    \"\"\"Sparsemax activation function [1].\n",
    "    For each batch `i` and class `j` we have\n",
    "      $$sparsemax[i, j] = max(logits[i, j] - tau(logits[i, :]), 0)$$\n",
    "    [1]: https://arxiv.org/abs/1602.02068\n",
    "    Args:\n",
    "        logits: Input tensor.\n",
    "        axis: Integer, axis along which the sparsemax operation is applied.\n",
    "    Returns:\n",
    "        Tensor, output of sparsemax transformation. Has the same type and\n",
    "        shape as `logits`.\n",
    "    Raises:\n",
    "        ValueError: In case `dim(logits) == 1`.\n",
    "    \"\"\"\n",
    "    logits = tf.convert_to_tensor(logits, name=\"logits\")\n",
    "\n",
    "    # We need its original shape for shape inference.\n",
    "    shape = logits.get_shape()\n",
    "    rank = shape.rank\n",
    "    is_last_axis = (axis == -1) or (axis == rank - 1)\n",
    "\n",
    "    if is_last_axis:\n",
    "        output = _compute_2d_sparsemax(logits)\n",
    "        output.set_shape(shape)\n",
    "        return output\n",
    "\n",
    "    # If dim is not the last dimension, we have to do a transpose so that we can\n",
    "    # still perform softmax on its last dimension.\n",
    "\n",
    "    # Swap logits' dimension of dim and its last dimension.\n",
    "    rank_op = tf.rank(logits)\n",
    "    axis_norm = axis % rank\n",
    "    logits = _swap_axis(logits, axis_norm, tf.math.subtract(rank_op, 1))\n",
    "\n",
    "    # Do the actual softmax on its last dimension.\n",
    "    output = _compute_2d_sparsemax(logits)\n",
    "    output = _swap_axis(output, axis_norm, tf.math.subtract(rank_op, 1))\n",
    "\n",
    "    # Make shape inference work since transpose may erase its static shape.\n",
    "    output.set_shape(shape)\n",
    "    return output"
   ]
  },
  {
   "cell_type": "code",
   "execution_count": 37,
   "metadata": {
    "execution": {
     "iopub.execute_input": "2020-10-23T00:35:56.981357Z",
     "iopub.status.busy": "2020-10-23T00:35:56.979461Z",
     "iopub.status.idle": "2020-10-23T00:35:56.982067Z",
     "shell.execute_reply": "2020-10-23T00:35:56.982610Z"
    },
    "papermill": {
     "duration": 0.074809,
     "end_time": "2020-10-23T00:35:56.982774",
     "exception": false,
     "start_time": "2020-10-23T00:35:56.907965",
     "status": "completed"
    },
    "tags": []
   },
   "outputs": [],
   "source": [
    "def _swap_axis(logits, dim_index, last_index, **kwargs):\n",
    "    return tf.transpose(\n",
    "        logits,\n",
    "        tf.concat(\n",
    "            [\n",
    "                tf.range(dim_index),\n",
    "                [last_index],\n",
    "                tf.range(dim_index + 1, last_index),\n",
    "                [dim_index],\n",
    "            ],\n",
    "            0,\n",
    "        ),\n",
    "        **kwargs,\n",
    "    )"
   ]
  },
  {
   "cell_type": "code",
   "execution_count": 38,
   "metadata": {
    "execution": {
     "iopub.execute_input": "2020-10-23T00:35:57.128769Z",
     "iopub.status.busy": "2020-10-23T00:35:57.127838Z",
     "iopub.status.idle": "2020-10-23T00:35:57.130928Z",
     "shell.execute_reply": "2020-10-23T00:35:57.130314Z"
    },
    "papermill": {
     "duration": 0.084379,
     "end_time": "2020-10-23T00:35:57.131044",
     "exception": false,
     "start_time": "2020-10-23T00:35:57.046665",
     "status": "completed"
    },
    "tags": []
   },
   "outputs": [],
   "source": [
    "def _compute_2d_sparsemax(logits):\n",
    "    \"\"\"Performs the sparsemax operation when axis=-1.\"\"\"\n",
    "    shape_op = tf.shape(logits)\n",
    "    obs = tf.math.reduce_prod(shape_op[:-1])\n",
    "    dims = shape_op[-1]\n",
    "\n",
    "    # In the paper, they call the logits z.\n",
    "    # The mean(logits) can be substracted from logits to make the algorithm\n",
    "    # more numerically stable. the instability in this algorithm comes mostly\n",
    "    # from the z_cumsum. Substacting the mean will cause z_cumsum to be close\n",
    "    # to zero. However, in practise the numerical instability issues are very\n",
    "    # minor and substacting the mean causes extra issues with inf and nan\n",
    "    # input.\n",
    "    # Reshape to [obs, dims] as it is almost free and means the remanining\n",
    "    # code doesn't need to worry about the rank.\n",
    "    z = tf.reshape(logits, [obs, dims])\n",
    "\n",
    "    # sort z\n",
    "    z_sorted, _ = tf.nn.top_k(z, k=dims)\n",
    "\n",
    "    # calculate k(z)\n",
    "    z_cumsum = tf.math.cumsum(z_sorted, axis=-1)\n",
    "    k = tf.range(1, tf.cast(dims, logits.dtype) + 1, dtype=logits.dtype)\n",
    "    z_check = 1 + k * z_sorted > z_cumsum\n",
    "    # because the z_check vector is always [1,1,...1,0,0,...0] finding the\n",
    "    # (index + 1) of the last `1` is the same as just summing the number of 1.\n",
    "    k_z = tf.math.reduce_sum(tf.cast(z_check, tf.int32), axis=-1)\n",
    "\n",
    "    # calculate tau(z)\n",
    "    # If there are inf values or all values are -inf, the k_z will be zero,\n",
    "    # this is mathematically invalid and will also cause the gather_nd to fail.\n",
    "    # Prevent this issue for now by setting k_z = 1 if k_z = 0, this is then\n",
    "    # fixed later (see p_safe) by returning p = nan. This results in the same\n",
    "    # behavior as softmax.\n",
    "    k_z_safe = tf.math.maximum(k_z, 1)\n",
    "    indices = tf.stack([tf.range(0, obs), tf.reshape(k_z_safe, [-1]) - 1], axis=1)\n",
    "    tau_sum = tf.gather_nd(z_cumsum, indices)\n",
    "    tau_z = (tau_sum - 1) / tf.cast(k_z, logits.dtype)\n",
    "\n",
    "    # calculate p\n",
    "    p = tf.math.maximum(tf.cast(0, logits.dtype), z - tf.expand_dims(tau_z, -1))\n",
    "    # If k_z = 0 or if z = nan, then the input is invalid\n",
    "    p_safe = tf.where(\n",
    "        tf.expand_dims(\n",
    "            tf.math.logical_or(tf.math.equal(k_z, 0), tf.math.is_nan(z_cumsum[:, -1])),\n",
    "            axis=-1,\n",
    "        ),\n",
    "        tf.fill([obs, dims], tf.cast(float(\"nan\"), logits.dtype)),\n",
    "        p,\n",
    "    )\n",
    "\n",
    "    # Reshape back to original size\n",
    "    p_safe = tf.reshape(p_safe, shape_op)\n",
    "    return p_safe"
   ]
  },
  {
   "cell_type": "code",
   "execution_count": 39,
   "metadata": {
    "execution": {
     "iopub.execute_input": "2020-10-23T00:35:57.284880Z",
     "iopub.status.busy": "2020-10-23T00:35:57.268080Z",
     "iopub.status.idle": "2020-10-23T00:35:57.318592Z",
     "shell.execute_reply": "2020-10-23T00:35:57.318047Z"
    },
    "papermill": {
     "duration": 0.12387,
     "end_time": "2020-10-23T00:35:57.318736",
     "exception": false,
     "start_time": "2020-10-23T00:35:57.194866",
     "status": "completed"
    },
    "tags": []
   },
   "outputs": [],
   "source": [
    "\"\"\"\n",
    "Code replicated from https://github.com/tensorflow/addons/blob/master/tensorflow_addons/layers/normalizations.py\n",
    "\"\"\"\n",
    "\n",
    "\n",
    "@register_keras_custom_object\n",
    "class GroupNormalization(L.Layer):\n",
    "    \"\"\"Group normalization layer.\n",
    "    Group Normalization divides the channels into groups and computes\n",
    "    within each group the mean and variance for normalization.\n",
    "    Empirically, its accuracy is more stable than batch norm in a wide\n",
    "    range of small batch sizes, if learning rate is adjusted linearly\n",
    "    with batch sizes.\n",
    "    Relation to Layer Normalization:\n",
    "    If the number of groups is set to 1, then this operation becomes identical\n",
    "    to Layer Normalization.\n",
    "    Relation to Instance Normalization:\n",
    "    If the number of groups is set to the\n",
    "    input dimension (number of groups is equal\n",
    "    to number of channels), then this operation becomes\n",
    "    identical to Instance Normalization.\n",
    "    Arguments\n",
    "        groups: Integer, the number of groups for Group Normalization.\n",
    "            Can be in the range [1, N] where N is the input dimension.\n",
    "            The input dimension must be divisible by the number of groups.\n",
    "        axis: Integer, the axis that should be normalized.\n",
    "        epsilon: Small float added to variance to avoid dividing by zero.\n",
    "        center: If True, add offset of `beta` to normalized tensor.\n",
    "            If False, `beta` is ignored.\n",
    "        scale: If True, multiply by `gamma`.\n",
    "            If False, `gamma` is not used.\n",
    "        beta_initializer: Initializer for the beta weight.\n",
    "        gamma_initializer: Initializer for the gamma weight.\n",
    "        beta_regularizer: Optional regularizer for the beta weight.\n",
    "        gamma_regularizer: Optional regularizer for the gamma weight.\n",
    "        beta_constraint: Optional constraint for the beta weight.\n",
    "        gamma_constraint: Optional constraint for the gamma weight.\n",
    "    Input shape\n",
    "        Arbitrary. Use the keyword argument `input_shape`\n",
    "        (tuple of integers, does not include the samples axis)\n",
    "        when using this layer as the first layer in a model.\n",
    "    Output shape\n",
    "        Same shape as input.\n",
    "    References\n",
    "        - [Group Normalization](https://arxiv.org/abs/1803.08494)\n",
    "    \"\"\"\n",
    "\n",
    "    def __init__(\n",
    "        self,\n",
    "        groups: int = 2,\n",
    "        axis: int = -1,\n",
    "        epsilon: float = 1e-3,\n",
    "        center: bool = True,\n",
    "        scale: bool = True,\n",
    "        beta_initializer=\"zeros\",\n",
    "        gamma_initializer=\"ones\",\n",
    "        beta_regularizer=None,\n",
    "        gamma_regularizer=None,\n",
    "        beta_constraint=None,\n",
    "        gamma_constraint=None,\n",
    "        **kwargs\n",
    "    ):\n",
    "        super().__init__(**kwargs)\n",
    "        self.supports_masking = True\n",
    "        self.groups = groups\n",
    "        self.axis = axis\n",
    "        self.epsilon = epsilon\n",
    "        self.center = center\n",
    "        self.scale = scale\n",
    "        self.beta_initializer = tf.keras.initializers.get(beta_initializer)\n",
    "        self.gamma_initializer = tf.keras.initializers.get(gamma_initializer)\n",
    "        self.beta_regularizer = tf.keras.regularizers.get(beta_regularizer)\n",
    "        self.gamma_regularizer = tf.keras.regularizers.get(gamma_regularizer)\n",
    "        self.beta_constraint = tf.keras.constraints.get(beta_constraint)\n",
    "        self.gamma_constraint = tf.keras.constraints.get(gamma_constraint)\n",
    "        self._check_axis()\n",
    "\n",
    "    def build(self, input_shape):\n",
    "\n",
    "        self._check_if_input_shape_is_none(input_shape)\n",
    "        self._set_number_of_groups_for_instance_norm(input_shape)\n",
    "        self._check_size_of_dimensions(input_shape)\n",
    "        self._create_input_spec(input_shape)\n",
    "\n",
    "        self._add_gamma_weight(input_shape)\n",
    "        self._add_beta_weight(input_shape)\n",
    "        self.built = True\n",
    "        super().build(input_shape)\n",
    "\n",
    "    def call(self, inputs, training=None):\n",
    "        # Training=none is just for compat with batchnorm signature call\n",
    "        input_shape = K.int_shape(inputs)\n",
    "        tensor_input_shape = tf.shape(inputs)\n",
    "\n",
    "        reshaped_inputs, group_shape = self._reshape_into_groups(inputs, input_shape, tensor_input_shape)\n",
    "\n",
    "        normalized_inputs = self._apply_normalization(reshaped_inputs, input_shape)\n",
    "\n",
    "        outputs = tf.reshape(normalized_inputs, tensor_input_shape)\n",
    "\n",
    "        return outputs\n",
    "\n",
    "    def get_config(self):\n",
    "        config = {\n",
    "            \"groups\": self.groups,\n",
    "            \"axis\": self.axis,\n",
    "            \"epsilon\": self.epsilon,\n",
    "            \"center\": self.center,\n",
    "            \"scale\": self.scale,\n",
    "            \"beta_initializer\": tf.keras.initializers.serialize(self.beta_initializer),\n",
    "            \"gamma_initializer\": tf.keras.initializers.serialize(self.gamma_initializer),\n",
    "            \"beta_regularizer\": tf.keras.regularizers.serialize(self.beta_regularizer),\n",
    "            \"gamma_regularizer\": tf.keras.regularizers.serialize(self.gamma_regularizer),\n",
    "            \"beta_constraint\": tf.keras.constraints.serialize(self.beta_constraint),\n",
    "            \"gamma_constraint\": tf.keras.constraints.serialize(self.gamma_constraint),\n",
    "        }\n",
    "        base_config = super().get_config()\n",
    "        return {**base_config, **config}\n",
    "\n",
    "    def compute_output_shape(self, input_shape):\n",
    "        return input_shape\n",
    "\n",
    "    def _reshape_into_groups(self, inputs, input_shape, tensor_input_shape):\n",
    "\n",
    "        group_shape = [tensor_input_shape[i] for i in range(len(input_shape))]\n",
    "        group_shape[self.axis] = input_shape[self.axis] // self.groups\n",
    "        group_shape.insert(self.axis, self.groups)\n",
    "        group_shape = tf.stack(group_shape)\n",
    "        reshaped_inputs = tf.reshape(inputs, group_shape)\n",
    "        return reshaped_inputs, group_shape\n",
    "\n",
    "    def _apply_normalization(self, reshaped_inputs, input_shape):\n",
    "\n",
    "        group_shape = K.int_shape(reshaped_inputs)\n",
    "        group_reduction_axes = list(range(1, len(group_shape)))\n",
    "        axis = -2 if self.axis == -1 else self.axis - 1\n",
    "        group_reduction_axes.pop(axis)\n",
    "\n",
    "        mean, variance = tf.nn.moments(reshaped_inputs, group_reduction_axes, keepdims=True)\n",
    "\n",
    "        gamma, beta = self._get_reshaped_weights(input_shape)\n",
    "        normalized_inputs = tf.nn.batch_normalization(\n",
    "            reshaped_inputs,\n",
    "            mean=mean,\n",
    "            variance=variance,\n",
    "            scale=gamma,\n",
    "            offset=beta,\n",
    "            variance_epsilon=self.epsilon,\n",
    "        )\n",
    "        return normalized_inputs\n",
    "\n",
    "    def _get_reshaped_weights(self, input_shape):\n",
    "        broadcast_shape = self._create_broadcast_shape(input_shape)\n",
    "        gamma = None\n",
    "        beta = None\n",
    "        if self.scale:\n",
    "            gamma = tf.reshape(self.gamma, broadcast_shape)\n",
    "\n",
    "        if self.center:\n",
    "            beta = tf.reshape(self.beta, broadcast_shape)\n",
    "        return gamma, beta\n",
    "\n",
    "    def _check_if_input_shape_is_none(self, input_shape):\n",
    "        dim = input_shape[self.axis]\n",
    "        if dim is None:\n",
    "            raise ValueError(\n",
    "                \"Axis \" + str(self.axis) + \" of \"\n",
    "                \"input tensor should have a defined dimension \"\n",
    "                \"but the layer received an input with shape \" + str(input_shape) + \".\"\n",
    "            )\n",
    "\n",
    "    def _set_number_of_groups_for_instance_norm(self, input_shape):\n",
    "        dim = input_shape[self.axis]\n",
    "\n",
    "        if self.groups == -1:\n",
    "            self.groups = dim\n",
    "\n",
    "    def _check_size_of_dimensions(self, input_shape):\n",
    "\n",
    "        dim = input_shape[self.axis]\n",
    "        if dim < self.groups:\n",
    "            raise ValueError(\n",
    "                \"Number of groups (\" + str(self.groups) + \") cannot be \"\n",
    "                \"more than the number of channels (\" + str(dim) + \").\"\n",
    "            )\n",
    "\n",
    "        if dim % self.groups != 0:\n",
    "            raise ValueError(\n",
    "                \"Number of groups (\" + str(self.groups) + \") must be a \"\n",
    "                \"multiple of the number of channels (\" + str(dim) + \").\"\n",
    "            )\n",
    "\n",
    "    def _check_axis(self):\n",
    "\n",
    "        if self.axis == 0:\n",
    "            raise ValueError(\n",
    "                \"You are trying to normalize your batch axis. Do you want to \"\n",
    "                \"use tf.layer.batch_normalization instead\"\n",
    "            )\n",
    "\n",
    "    def _create_input_spec(self, input_shape):\n",
    "\n",
    "        dim = input_shape[self.axis]\n",
    "        self.input_spec = L.InputSpec(ndim=len(input_shape), axes={self.axis: dim})\n",
    "\n",
    "    def _add_gamma_weight(self, input_shape):\n",
    "\n",
    "        dim = input_shape[self.axis]\n",
    "        shape = (dim,)\n",
    "\n",
    "        if self.scale:\n",
    "            self.gamma = self.add_weight(\n",
    "                shape=shape,\n",
    "                name=\"gamma\",\n",
    "                initializer=self.gamma_initializer,\n",
    "                regularizer=self.gamma_regularizer,\n",
    "                constraint=self.gamma_constraint,\n",
    "            )\n",
    "        else:\n",
    "            self.gamma = None\n",
    "\n",
    "    def _add_beta_weight(self, input_shape):\n",
    "\n",
    "        dim = input_shape[self.axis]\n",
    "        shape = (dim,)\n",
    "\n",
    "        if self.center:\n",
    "            self.beta = self.add_weight(\n",
    "                shape=shape,\n",
    "                name=\"beta\",\n",
    "                initializer=self.beta_initializer,\n",
    "                regularizer=self.beta_regularizer,\n",
    "                constraint=self.beta_constraint,\n",
    "            )\n",
    "        else:\n",
    "            self.beta = None\n",
    "\n",
    "    def _create_broadcast_shape(self, input_shape):\n",
    "        broadcast_shape = [1] * len(input_shape)\n",
    "        broadcast_shape[self.axis] = input_shape[self.axis] // self.groups\n",
    "        broadcast_shape.insert(self.axis, self.groups)\n",
    "        return broadcast_shape"
   ]
  },
  {
   "cell_type": "code",
   "execution_count": 40,
   "metadata": {
    "execution": {
     "iopub.execute_input": "2020-10-23T00:35:57.459187Z",
     "iopub.status.busy": "2020-10-23T00:35:57.458240Z",
     "iopub.status.idle": "2020-10-23T00:35:57.461400Z",
     "shell.execute_reply": "2020-10-23T00:35:57.460838Z"
    },
    "papermill": {
     "duration": 0.077268,
     "end_time": "2020-10-23T00:35:57.461509",
     "exception": false,
     "start_time": "2020-10-23T00:35:57.384241",
     "status": "completed"
    },
    "tags": []
   },
   "outputs": [],
   "source": [
    "class TransformBlock(tf.keras.Model):\n",
    "    def __init__(self, features, norm_type, momentum=0.9, virtual_batch_size=None, groups=2, block_name=\"\", **kwargs):\n",
    "        super(TransformBlock, self).__init__(**kwargs)\n",
    "\n",
    "        self.features = features\n",
    "        self.norm_type = norm_type\n",
    "        self.momentum = momentum\n",
    "        self.groups = groups\n",
    "        self.virtual_batch_size = virtual_batch_size\n",
    "\n",
    "        self.transform = L.Dense(self.features, use_bias=False, name=f\"transformblock_dense_{block_name}\")\n",
    "\n",
    "        if norm_type == \"batch\":\n",
    "            self.bn = L.BatchNormalization(\n",
    "                axis=-1,\n",
    "                momentum=momentum,\n",
    "                virtual_batch_size=virtual_batch_size,\n",
    "                name=f\"transformblock_bn_{block_name}\",\n",
    "            )\n",
    "\n",
    "        else:\n",
    "            self.bn = GroupNormalization(axis=-1, groups=self.groups, name=f\"transformblock_gn_{block_name}\")\n",
    "\n",
    "    def call(self, inputs, training=None):\n",
    "        x = self.transform(inputs)\n",
    "        x = self.bn(x, training=training)\n",
    "        return x"
   ]
  },
  {
   "cell_type": "code",
   "execution_count": 41,
   "metadata": {
    "execution": {
     "iopub.execute_input": "2020-10-23T00:35:57.627755Z",
     "iopub.status.busy": "2020-10-23T00:35:57.612025Z",
     "iopub.status.idle": "2020-10-23T00:35:57.650531Z",
     "shell.execute_reply": "2020-10-23T00:35:57.649982Z"
    },
    "papermill": {
     "duration": 0.124838,
     "end_time": "2020-10-23T00:35:57.650659",
     "exception": false,
     "start_time": "2020-10-23T00:35:57.525821",
     "status": "completed"
    },
    "tags": []
   },
   "outputs": [],
   "source": [
    "class TabNet(tf.keras.Model):\n",
    "    def __init__(\n",
    "        self,\n",
    "        feature_columns,\n",
    "        feature_dim=64,\n",
    "        output_dim=64,\n",
    "        num_features=None,\n",
    "        num_decision_steps=5,\n",
    "        relaxation_factor=1.5,\n",
    "        sparsity_coefficient=1e-5,\n",
    "        norm_type=\"group\",\n",
    "        batch_momentum=0.98,\n",
    "        virtual_batch_size=None,\n",
    "        num_groups=2,\n",
    "        epsilon=1e-5,\n",
    "        **kwargs,\n",
    "    ):\n",
    "        \"\"\"\n",
    "        Tensorflow 2.0 implementation of [TabNet: Attentive Interpretable Tabular Learning](https://arxiv.org/abs/1908.07442)\n",
    "        # Hyper Parameter Tuning (Excerpt from the paper)\n",
    "        We consider datasets ranging from ∼10K to ∼10M training points, with varying degrees of fitting\n",
    "        difficulty. TabNet obtains high performance for all with a few general principles on hyperparameter\n",
    "        selection:\n",
    "            - Most datasets yield the best results for Nsteps ∈ [3, 10]. Typically, larger datasets and\n",
    "            more complex tasks require a larger Nsteps. A very high value of Nsteps may suffer from\n",
    "            overfitting and yield poor generalization.\n",
    "            - Adjustment of the values of Nd and Na is the most efficient way of obtaining a trade-off\n",
    "            between performance and complexity. Nd = Na is a reasonable choice for most datasets. A\n",
    "            very high value of Nd and Na may suffer from overfitting and yield poor generalization.\n",
    "            - An optimal choice of γ can have a major role on the overall performance. Typically a larger\n",
    "            Nsteps value favors for a larger γ.\n",
    "            - A large batch size is beneficial for performance - if the memory constraints permit, as large\n",
    "            as 1-10 % of the total training dataset size is suggested. The virtual batch size is typically\n",
    "            much smaller than the batch size.\n",
    "            - Initially large learning rate is important, which should be gradually decayed until convergence.\n",
    "        Args:\n",
    "            feature_columns: The Tensorflow feature columns for the dataset.\n",
    "            feature_dim (N_a): Dimensionality of the hidden representation in feature\n",
    "                transformation block. Each layer first maps the representation to a\n",
    "                2*feature_dim-dimensional output and half of it is used to determine the\n",
    "                nonlinearity of the GLU activation where the other half is used as an\n",
    "                input to GLU, and eventually feature_dim-dimensional output is\n",
    "                transferred to the next layer.\n",
    "            output_dim (N_d): Dimensionality of the outputs of each decision step, which is\n",
    "                later mapped to the final classification or regression output.\n",
    "            num_features: The number of input features (i.e the number of columns for\n",
    "                tabular data assuming each feature is represented with 1 dimension).\n",
    "            num_decision_steps(N_steps): Number of sequential decision steps.\n",
    "            relaxation_factor (gamma): Relaxation factor that promotes the reuse of each\n",
    "                feature at different decision steps. When it is 1, a feature is enforced\n",
    "                to be used only at one decision step and as it increases, more\n",
    "                flexibility is provided to use a feature at multiple decision steps.\n",
    "            sparsity_coefficient (lambda_sparse): Strength of the sparsity regularization.\n",
    "                Sparsity may provide a favorable inductive bias for convergence to\n",
    "                higher accuracy for some datasets where most of the input features are redundant.\n",
    "            norm_type: Type of normalization to perform for the model. Can be either\n",
    "                'batch' or 'group'. 'group' is the default.\n",
    "            batch_momentum: Momentum in ghost batch normalization.\n",
    "            virtual_batch_size: Virtual batch size in ghost batch normalization. The\n",
    "                overall batch size should be an integer multiple of virtual_batch_size.\n",
    "            num_groups: Number of groups used for group normalization.\n",
    "            epsilon: A small number for numerical stability of the entropy calculations.\n",
    "        \"\"\"\n",
    "        super(TabNet, self).__init__(**kwargs)\n",
    "\n",
    "        # Input checks\n",
    "        if feature_columns is not None:\n",
    "            if type(feature_columns) not in (list, tuple):\n",
    "                raise ValueError(\"`feature_columns` must be a list or a tuple.\")\n",
    "\n",
    "            if len(feature_columns) == 0:\n",
    "                raise ValueError(\"`feature_columns` must be contain at least 1 tf.feature_column !\")\n",
    "\n",
    "            if num_features is None:\n",
    "                num_features = len(feature_columns)\n",
    "            else:\n",
    "                num_features = int(num_features)\n",
    "\n",
    "        else:\n",
    "            if num_features is None:\n",
    "                raise ValueError(\"If `feature_columns` is None, then `num_features` cannot be None.\")\n",
    "\n",
    "        if num_decision_steps < 1:\n",
    "            raise ValueError(\"Num decision steps must be greater than 0.\")\n",
    "\n",
    "        if feature_dim < output_dim:\n",
    "            raise ValueError(\"To compute `features_for_coef`, feature_dim must be larger than output dim\")\n",
    "\n",
    "        feature_dim = int(feature_dim)\n",
    "        output_dim = int(output_dim)\n",
    "        num_decision_steps = int(num_decision_steps)\n",
    "        relaxation_factor = float(relaxation_factor)\n",
    "        sparsity_coefficient = float(sparsity_coefficient)\n",
    "        batch_momentum = float(batch_momentum)\n",
    "        num_groups = max(1, int(num_groups))\n",
    "        epsilon = float(epsilon)\n",
    "\n",
    "        if relaxation_factor < 0.0:\n",
    "            raise ValueError(\"`relaxation_factor` cannot be negative !\")\n",
    "\n",
    "        if sparsity_coefficient < 0.0:\n",
    "            raise ValueError(\"`sparsity_coefficient` cannot be negative !\")\n",
    "\n",
    "        if virtual_batch_size is not None:\n",
    "            virtual_batch_size = int(virtual_batch_size)\n",
    "\n",
    "        if norm_type not in [\"batch\", \"group\"]:\n",
    "            raise ValueError(\"`norm_type` must be either `batch` or `group`\")\n",
    "\n",
    "        self.feature_columns = feature_columns\n",
    "        self.num_features = num_features\n",
    "        self.feature_dim = feature_dim\n",
    "        self.output_dim = output_dim\n",
    "\n",
    "        self.num_decision_steps = num_decision_steps\n",
    "        self.relaxation_factor = relaxation_factor\n",
    "        self.sparsity_coefficient = sparsity_coefficient\n",
    "        self.norm_type = norm_type\n",
    "        self.batch_momentum = batch_momentum\n",
    "        self.virtual_batch_size = virtual_batch_size\n",
    "        self.num_groups = num_groups\n",
    "        self.epsilon = epsilon\n",
    "\n",
    "        # if num_decision_steps > 1:\n",
    "        # features_for_coeff = feature_dim - output_dim\n",
    "        # print(f\"[TabNet]: {features_for_coeff} features will be used for decision steps.\")\n",
    "\n",
    "        if self.feature_columns is not None:\n",
    "            self.input_features = L.DenseFeatures(feature_columns, trainable=True)\n",
    "\n",
    "            if self.norm_type == \"batch\":\n",
    "                self.input_bn = L.BatchNormalization(axis=-1, momentum=batch_momentum, name=\"input_bn\")\n",
    "            else:\n",
    "                self.input_bn = GroupNormalization(axis=-1, groups=self.num_groups, name=\"input_gn\")\n",
    "\n",
    "        else:\n",
    "            self.input_features = None\n",
    "            self.input_bn = None\n",
    "\n",
    "        self.transform_f1 = TransformBlock(\n",
    "            2 * self.feature_dim,\n",
    "            self.norm_type,\n",
    "            self.batch_momentum,\n",
    "            self.virtual_batch_size,\n",
    "            self.num_groups,\n",
    "            block_name=\"f1\",\n",
    "        )\n",
    "\n",
    "        self.transform_f2 = TransformBlock(\n",
    "            2 * self.feature_dim,\n",
    "            self.norm_type,\n",
    "            self.batch_momentum,\n",
    "            self.virtual_batch_size,\n",
    "            self.num_groups,\n",
    "            block_name=\"f2\",\n",
    "        )\n",
    "\n",
    "        self.transform_f3_list = [\n",
    "            TransformBlock(\n",
    "                2 * self.feature_dim,\n",
    "                self.norm_type,\n",
    "                self.batch_momentum,\n",
    "                self.virtual_batch_size,\n",
    "                self.num_groups,\n",
    "                block_name=f\"f3_{i}\",\n",
    "            )\n",
    "            for i in range(self.num_decision_steps)\n",
    "        ]\n",
    "\n",
    "        self.transform_f4_list = [\n",
    "            TransformBlock(\n",
    "                2 * self.feature_dim,\n",
    "                self.norm_type,\n",
    "                self.batch_momentum,\n",
    "                self.virtual_batch_size,\n",
    "                self.num_groups,\n",
    "                block_name=f\"f4_{i}\",\n",
    "            )\n",
    "            for i in range(self.num_decision_steps)\n",
    "        ]\n",
    "\n",
    "        self.transform_coef_list = [\n",
    "            TransformBlock(\n",
    "                self.num_features,\n",
    "                self.norm_type,\n",
    "                self.batch_momentum,\n",
    "                self.virtual_batch_size,\n",
    "                self.num_groups,\n",
    "                block_name=f\"coef_{i}\",\n",
    "            )\n",
    "            for i in range(self.num_decision_steps - 1)\n",
    "        ]\n",
    "\n",
    "        self._step_feature_selection_masks = None\n",
    "        self._step_aggregate_feature_selection_mask = None\n",
    "\n",
    "    def call(self, inputs, training=None):\n",
    "        if self.input_features is not None:\n",
    "            features = self.input_features(inputs)\n",
    "            features = self.input_bn(features, training=training)\n",
    "\n",
    "        else:\n",
    "            features = inputs\n",
    "\n",
    "        batch_size = tf.shape(features)[0]\n",
    "        self._step_feature_selection_masks = []\n",
    "        self._step_aggregate_feature_selection_mask = None\n",
    "\n",
    "        # Initializes decision-step dependent variables.\n",
    "        output_aggregated = tf.zeros([batch_size, self.output_dim])\n",
    "        masked_features = features\n",
    "        mask_values = tf.zeros([batch_size, self.num_features])\n",
    "        aggregated_mask_values = tf.zeros([batch_size, self.num_features])\n",
    "        complementary_aggregated_mask_values = tf.ones([batch_size, self.num_features])\n",
    "\n",
    "        total_entropy = 0.0\n",
    "        entropy_loss = 0.0\n",
    "\n",
    "        for ni in range(self.num_decision_steps):\n",
    "            # Feature transformer with two shared and two decision step dependent\n",
    "            # blocks is used below.=\n",
    "            transform_f1 = self.transform_f1(masked_features, training=training)\n",
    "            transform_f1 = glu(transform_f1, self.feature_dim)\n",
    "\n",
    "            transform_f2 = self.transform_f2(transform_f1, training=training)\n",
    "            transform_f2 = (glu(transform_f2, self.feature_dim) + transform_f1) * tf.math.sqrt(0.5)\n",
    "\n",
    "            transform_f3 = self.transform_f3_list[ni](transform_f2, training=training)\n",
    "            transform_f3 = (glu(transform_f3, self.feature_dim) + transform_f2) * tf.math.sqrt(0.5)\n",
    "\n",
    "            transform_f4 = self.transform_f4_list[ni](transform_f3, training=training)\n",
    "            transform_f4 = (glu(transform_f4, self.feature_dim) + transform_f3) * tf.math.sqrt(0.5)\n",
    "\n",
    "            if ni > 0 or self.num_decision_steps == 1:\n",
    "                decision_out = tf.nn.relu(transform_f4[:, : self.output_dim])\n",
    "\n",
    "                # Decision aggregation.\n",
    "                output_aggregated += decision_out\n",
    "\n",
    "                # Aggregated masks are used for visualization of the\n",
    "                # feature importance attributes.\n",
    "                scale_agg = tf.reduce_sum(decision_out, axis=1, keepdims=True)\n",
    "\n",
    "                if self.num_decision_steps > 1:\n",
    "                    scale_agg = scale_agg / tf.cast(self.num_decision_steps - 1, tf.float32)\n",
    "\n",
    "                aggregated_mask_values += mask_values * scale_agg\n",
    "\n",
    "            features_for_coef = transform_f4[:, self.output_dim :]\n",
    "\n",
    "            if ni < (self.num_decision_steps - 1):\n",
    "                # Determines the feature masks via linear and nonlinear\n",
    "                # transformations, taking into account of aggregated feature use.\n",
    "                mask_values = self.transform_coef_list[ni](features_for_coef, training=training)\n",
    "                mask_values *= complementary_aggregated_mask_values\n",
    "                mask_values = sparsemax(mask_values, axis=-1)\n",
    "\n",
    "                # Relaxation factor controls the amount of reuse of features between\n",
    "                # different decision blocks and updated with the values of\n",
    "                # coefficients.\n",
    "                complementary_aggregated_mask_values *= self.relaxation_factor - mask_values\n",
    "\n",
    "                # Entropy is used to penalize the amount of sparsity in feature\n",
    "                # selection.\n",
    "                total_entropy += tf.reduce_mean(\n",
    "                    tf.reduce_sum(-mask_values * tf.math.log(mask_values + self.epsilon), axis=1)\n",
    "                ) / (tf.cast(self.num_decision_steps - 1, tf.float32))\n",
    "\n",
    "                # Add entropy loss\n",
    "                entropy_loss = total_entropy\n",
    "\n",
    "                # Feature selection.\n",
    "                masked_features = tf.multiply(mask_values, features)\n",
    "\n",
    "                # Visualization of the feature selection mask at decision step ni\n",
    "                # tf.summary.image(\n",
    "                #     \"Mask for step\" + str(ni),\n",
    "                #     tf.expand_dims(tf.expand_dims(mask_values, 0), 3),\n",
    "                #     max_outputs=1)\n",
    "                mask_at_step_i = tf.expand_dims(tf.expand_dims(mask_values, 0), 3)\n",
    "                self._step_feature_selection_masks.append(mask_at_step_i)\n",
    "\n",
    "            else:\n",
    "                # This branch is needed for correct compilation by tf.autograph\n",
    "                entropy_loss = 0.0\n",
    "\n",
    "        # Adds the loss automatically\n",
    "        self.add_loss(self.sparsity_coefficient * entropy_loss)\n",
    "\n",
    "        # Visualization of the aggregated feature importances\n",
    "        # tf.summary.image(\n",
    "        #     \"Aggregated mask\",\n",
    "        #     tf.expand_dims(tf.expand_dims(aggregated_mask_values, 0), 3),\n",
    "        #     max_outputs=1)\n",
    "\n",
    "        agg_mask = tf.expand_dims(tf.expand_dims(aggregated_mask_values, 0), 3)\n",
    "        self._step_aggregate_feature_selection_mask = agg_mask\n",
    "\n",
    "        return output_aggregated\n",
    "\n",
    "    @property\n",
    "    def feature_selection_masks(self):\n",
    "        return self._step_feature_selection_masks\n",
    "\n",
    "    @property\n",
    "    def aggregate_feature_selection_mask(self):\n",
    "        return self._step_aggregate_feature_selection_mask"
   ]
  },
  {
   "cell_type": "code",
   "execution_count": 42,
   "metadata": {
    "execution": {
     "iopub.execute_input": "2020-10-23T00:35:57.796307Z",
     "iopub.status.busy": "2020-10-23T00:35:57.794352Z",
     "iopub.status.idle": "2020-10-23T00:35:57.797029Z",
     "shell.execute_reply": "2020-10-23T00:35:57.797527Z"
    },
    "papermill": {
     "duration": 0.083511,
     "end_time": "2020-10-23T00:35:57.797652",
     "exception": false,
     "start_time": "2020-10-23T00:35:57.714141",
     "status": "completed"
    },
    "tags": []
   },
   "outputs": [],
   "source": [
    "class TabNetClassifier(tf.keras.Model):\n",
    "    def __init__(\n",
    "        self,\n",
    "        feature_columns,\n",
    "        num_classes,\n",
    "        num_features=None,\n",
    "        feature_dim=64,\n",
    "        output_dim=64,\n",
    "        num_decision_steps=5,\n",
    "        relaxation_factor=1.5,\n",
    "        sparsity_coefficient=1e-5,\n",
    "        norm_type=\"group\",\n",
    "        batch_momentum=0.98,\n",
    "        virtual_batch_size=None,\n",
    "        num_groups=1,\n",
    "        epsilon=1e-5,\n",
    "        multi_label=False,\n",
    "        **kwargs\n",
    "    ):\n",
    "        \"\"\"\n",
    "        Tensorflow 2.0 implementation of [TabNet: Attentive Interpretable Tabular Learning](https://arxiv.org/abs/1908.07442)\n",
    "        # Hyper Parameter Tuning (Excerpt from the paper)\n",
    "        We consider datasets ranging from ∼10K to ∼10M training points, with varying degrees of fitting\n",
    "        difficulty. TabNet obtains high performance for all with a few general principles on hyperparameter\n",
    "        selection:\n",
    "            - Most datasets yield the best results for Nsteps ∈ [3, 10]. Typically, larger datasets and\n",
    "            more complex tasks require a larger Nsteps. A very high value of Nsteps may suffer from\n",
    "            overfitting and yield poor generalization.\n",
    "            - Adjustment of the values of Nd and Na is the most efficient way of obtaining a trade-off\n",
    "            between performance and complexity. Nd = Na is a reasonable choice for most datasets. A\n",
    "            very high value of Nd and Na may suffer from overfitting and yield poor generalization.\n",
    "            - An optimal choice of γ can have a major role on the overall performance. Typically a larger\n",
    "            Nsteps value favors for a larger γ.\n",
    "            - A large batch size is beneficial for performance - if the memory constraints permit, as large\n",
    "            as 1-10 % of the total training dataset size is suggested. The virtual batch size is typically\n",
    "            much smaller than the batch size.\n",
    "            - Initially large learning rate is important, which should be gradually decayed until convergence.\n",
    "        Args:\n",
    "            feature_columns: The Tensorflow feature columns for the dataset.\n",
    "            num_classes: Number of classes.\n",
    "            feature_dim (N_a): Dimensionality of the hidden representation in feature\n",
    "                transformation block. Each layer first maps the representation to a\n",
    "                2*feature_dim-dimensional output and half of it is used to determine the\n",
    "                nonlinearity of the GLU activation where the other half is used as an\n",
    "                input to GLU, and eventually feature_dim-dimensional output is\n",
    "                transferred to the next layer.\n",
    "            output_dim (N_d): Dimensionality of the outputs of each decision step, which is\n",
    "                later mapped to the final classification or regression output.\n",
    "            num_features: The number of input features (i.e the number of columns for\n",
    "                tabular data assuming each feature is represented with 1 dimension).\n",
    "            num_decision_steps(N_steps): Number of sequential decision steps.\n",
    "            relaxation_factor (gamma): Relaxation factor that promotes the reuse of each\n",
    "                feature at different decision steps. When it is 1, a feature is enforced\n",
    "                to be used only at one decision step and as it increases, more\n",
    "                flexibility is provided to use a feature at multiple decision steps.\n",
    "            sparsity_coefficient (lambda_sparse): Strength of the sparsity regularization.\n",
    "                Sparsity may provide a favorable inductive bias for convergence to\n",
    "                higher accuracy for some datasets where most of the input features are redundant.\n",
    "            norm_type: Type of normalization to perform for the model. Can be either\n",
    "                'group' or 'group'. 'group' is the default.\n",
    "            batch_momentum: Momentum in ghost batch normalization.\n",
    "            virtual_batch_size: Virtual batch size in ghost batch normalization. The\n",
    "                overall batch size should be an integer multiple of virtual_batch_size.\n",
    "            num_groups: Number of groups used for group normalization.\n",
    "            epsilon: A small number for numerical stability of the entropy calculations.\n",
    "        \"\"\"\n",
    "        super(TabNetClassifier, self).__init__(**kwargs)\n",
    "\n",
    "        self.num_classes = num_classes\n",
    "\n",
    "        self.tabnet = TabNet(\n",
    "            feature_columns=feature_columns,\n",
    "            num_features=num_features,\n",
    "            feature_dim=feature_dim,\n",
    "            output_dim=output_dim,\n",
    "            num_decision_steps=num_decision_steps,\n",
    "            relaxation_factor=relaxation_factor,\n",
    "            sparsity_coefficient=sparsity_coefficient,\n",
    "            norm_type=norm_type,\n",
    "            batch_momentum=batch_momentum,\n",
    "            virtual_batch_size=virtual_batch_size,\n",
    "            num_groups=num_groups,\n",
    "            epsilon=epsilon,\n",
    "            **kwargs\n",
    "        )\n",
    "\n",
    "        if multi_label:\n",
    "\n",
    "            self.clf = L.Dense(num_classes, activation=\"sigmoid\", use_bias=False, name=\"classifier\")\n",
    "\n",
    "        else:\n",
    "\n",
    "            self.clf = L.Dense(num_classes, activation=\"softmax\", use_bias=False, name=\"classifier\")\n",
    "\n",
    "    def call(self, inputs, training=None):\n",
    "        self.activations = self.tabnet(inputs, training=training)\n",
    "        out = self.clf(self.activations)\n",
    "\n",
    "        return out\n",
    "\n",
    "    def summary(self, *super_args, **super_kwargs):\n",
    "        super().summary(*super_args, **super_kwargs)\n",
    "        self.tabnet.summary(*super_args, **super_kwargs)"
   ]
  },
  {
   "cell_type": "code",
   "execution_count": 43,
   "metadata": {
    "execution": {
     "iopub.execute_input": "2020-10-23T00:35:58.056194Z",
     "iopub.status.busy": "2020-10-23T00:35:58.055002Z",
     "iopub.status.idle": "2020-10-23T00:35:58.094102Z",
     "shell.execute_reply": "2020-10-23T00:35:58.091489Z"
    },
    "papermill": {
     "duration": 0.229652,
     "end_time": "2020-10-23T00:35:58.094271",
     "exception": false,
     "start_time": "2020-10-23T00:35:57.864619",
     "status": "completed"
    },
    "tags": []
   },
   "outputs": [],
   "source": [
    "class TabNetRegressor(tf.keras.Model):\n",
    "    def __init__(\n",
    "        self,\n",
    "        feature_columns,\n",
    "        num_regressors,\n",
    "        num_features=None,\n",
    "        feature_dim=64,\n",
    "        output_dim=64,\n",
    "        num_decision_steps=5,\n",
    "        relaxation_factor=1.5,\n",
    "        sparsity_coefficient=1e-5,\n",
    "        norm_type=\"group\",\n",
    "        batch_momentum=0.98,\n",
    "        virtual_batch_size=None,\n",
    "        num_groups=1,\n",
    "        epsilon=1e-5,\n",
    "        **kwargs\n",
    "    ):\n",
    "        \"\"\"\n",
    "        Tensorflow 2.0 implementation of [TabNet: Attentive Interpretable Tabular Learning](https://arxiv.org/abs/1908.07442)\n",
    "        # Hyper Parameter Tuning (Excerpt from the paper)\n",
    "        We consider datasets ranging from ∼10K to ∼10M training points, with varying degrees of fitting\n",
    "        difficulty. TabNet obtains high performance for all with a few general principles on hyperparameter\n",
    "        selection:\n",
    "            - Most datasets yield the best results for Nsteps ∈ [3, 10]. Typically, larger datasets and\n",
    "            more complex tasks require a larger Nsteps. A very high value of Nsteps may suffer from\n",
    "            overfitting and yield poor generalization.\n",
    "            - Adjustment of the values of Nd and Na is the most efficient way of obtaining a trade-off\n",
    "            between performance and complexity. Nd = Na is a reasonable choice for most datasets. A\n",
    "            very high value of Nd and Na may suffer from overfitting and yield poor generalization.\n",
    "            - An optimal choice of γ can have a major role on the overall performance. Typically a larger\n",
    "            Nsteps value favors for a larger γ.\n",
    "            - A large batch size is beneficial for performance - if the memory constraints permit, as large\n",
    "            as 1-10 % of the total training dataset size is suggested. The virtual batch size is typically\n",
    "            much smaller than the batch size.\n",
    "            - Initially large learning rate is important, which should be gradually decayed until convergence.\n",
    "        Args:\n",
    "            feature_columns: The Tensorflow feature columns for the dataset.\n",
    "            num_regressors: Number of regression variables.\n",
    "            feature_dim (N_a): Dimensionality of the hidden representation in feature\n",
    "                transformation block. Each layer first maps the representation to a\n",
    "                2*feature_dim-dimensional output and half of it is used to determine the\n",
    "                nonlinearity of the GLU activation where the other half is used as an\n",
    "                input to GLU, and eventually feature_dim-dimensional output is\n",
    "                transferred to the next layer.\n",
    "            output_dim (N_d): Dimensionality of the outputs of each decision step, which is\n",
    "                later mapped to the final classification or regression output.\n",
    "            num_features: The number of input features (i.e the number of columns for\n",
    "                tabular data assuming each feature is represented with 1 dimension).\n",
    "            num_decision_steps(N_steps): Number of sequential decision steps.\n",
    "            relaxation_factor (gamma): Relaxation factor that promotes the reuse of each\n",
    "                feature at different decision steps. When it is 1, a feature is enforced\n",
    "                to be used only at one decision step and as it increases, more\n",
    "                flexibility is provided to use a feature at multiple decision steps.\n",
    "            sparsity_coefficient (lambda_sparse): Strength of the sparsity regularization.\n",
    "                Sparsity may provide a favorable inductive bias for convergence to\n",
    "                higher accuracy for some datasets where most of the input features are redundant.\n",
    "            norm_type: Type of normalization to perform for the model. Can be either\n",
    "                'group' or 'group'. 'group' is the default.\n",
    "            batch_momentum: Momentum in ghost batch normalization.\n",
    "            virtual_batch_size: Virtual batch size in ghost batch normalization. The\n",
    "                overall batch size should be an integer multiple of virtual_batch_size.\n",
    "            num_groups: Number of groups used for group normalization.\n",
    "            epsilon: A small number for numerical stability of the entropy calculations.\n",
    "        \"\"\"\n",
    "        super(TabNetRegressor, self).__init__(**kwargs)\n",
    "\n",
    "        self.num_regressors = num_regressors\n",
    "\n",
    "        self.tabnet = TabNet(\n",
    "            feature_columns=feature_columns,\n",
    "            num_features=num_features,\n",
    "            feature_dim=feature_dim,\n",
    "            output_dim=output_dim,\n",
    "            num_decision_steps=num_decision_steps,\n",
    "            relaxation_factor=relaxation_factor,\n",
    "            sparsity_coefficient=sparsity_coefficient,\n",
    "            norm_type=norm_type,\n",
    "            batch_momentum=batch_momentum,\n",
    "            virtual_batch_size=virtual_batch_size,\n",
    "            num_groups=num_groups,\n",
    "            epsilon=epsilon,\n",
    "            **kwargs\n",
    "        )\n",
    "\n",
    "        self.regressor = L.Dense(num_regressors, use_bias=False, name=\"regressor\")\n",
    "\n",
    "    def call(self, inputs, training=None):\n",
    "        self.activations = self.tabnet(inputs, training=training)\n",
    "        out = self.regressor(self.activations)\n",
    "        return out\n",
    "\n",
    "    def summary(self, *super_args, **super_kwargs):\n",
    "        super().summary(*super_args, **super_kwargs)\n",
    "        self.tabnet.summary(*super_args, **super_kwargs)"
   ]
  },
  {
   "cell_type": "code",
   "execution_count": 44,
   "metadata": {
    "execution": {
     "iopub.execute_input": "2020-10-23T00:35:58.314867Z",
     "iopub.status.busy": "2020-10-23T00:35:58.313673Z",
     "iopub.status.idle": "2020-10-23T00:35:58.316745Z",
     "shell.execute_reply": "2020-10-23T00:35:58.315845Z"
    },
    "papermill": {
     "duration": 0.109037,
     "end_time": "2020-10-23T00:35:58.316909",
     "exception": false,
     "start_time": "2020-10-23T00:35:58.207872",
     "status": "completed"
    },
    "tags": []
   },
   "outputs": [],
   "source": [
    "# Aliases\n",
    "TabNetClassification = TabNetClassifier\n",
    "TabNetRegression = TabNetRegressor"
   ]
  },
  {
   "cell_type": "code",
   "execution_count": 45,
   "metadata": {
    "execution": {
     "iopub.execute_input": "2020-10-23T00:35:58.638234Z",
     "iopub.status.busy": "2020-10-23T00:35:58.637071Z",
     "iopub.status.idle": "2020-10-23T00:35:58.711896Z",
     "shell.execute_reply": "2020-10-23T00:35:58.712591Z"
    },
    "papermill": {
     "duration": 0.257674,
     "end_time": "2020-10-23T00:35:58.712803",
     "exception": false,
     "start_time": "2020-10-23T00:35:58.455129",
     "status": "completed"
    },
    "tags": []
   },
   "outputs": [],
   "source": [
    "class StackedTabNet(tf.keras.Model):\n",
    "    def __init__(\n",
    "        self,\n",
    "        feature_columns,\n",
    "        num_layers=1,\n",
    "        feature_dim=64,\n",
    "        output_dim=64,\n",
    "        num_features=None,\n",
    "        num_decision_steps=5,\n",
    "        relaxation_factor=1.5,\n",
    "        sparsity_coefficient=1e-5,\n",
    "        norm_type=\"group\",\n",
    "        batch_momentum=0.98,\n",
    "        virtual_batch_size=None,\n",
    "        num_groups=2,\n",
    "        epsilon=1e-5,\n",
    "        **kwargs\n",
    "    ):\n",
    "        \"\"\"\n",
    "        Tensorflow 2.0 implementation of [TabNet: Attentive Interpretable Tabular Learning](https://arxiv.org/abs/1908.07442)\n",
    "        Stacked variant of the TabNet model, which stacks multiple TabNets into a singular model.\n",
    "        # Hyper Parameter Tuning (Excerpt from the paper)\n",
    "        We consider datasets ranging from ∼10K to ∼10M training points, with varying degrees of fitting\n",
    "        difficulty. TabNet obtains high performance for all with a few general principles on hyperparameter\n",
    "        selection:\n",
    "            - Most datasets yield the best results for Nsteps ∈ [3, 10]. Typically, larger datasets and\n",
    "            more complex tasks require a larger Nsteps. A very high value of Nsteps may suffer from\n",
    "            overfitting and yield poor generalization.\n",
    "            - Adjustment of the values of Nd and Na is the most efficient way of obtaining a trade-off\n",
    "            between performance and complexity. Nd = Na is a reasonable choice for most datasets. A\n",
    "            very high value of Nd and Na may suffer from overfitting and yield poor generalization.\n",
    "            - An optimal choice of γ can have a major role on the overall performance. Typically a larger\n",
    "            Nsteps value favors for a larger γ.\n",
    "            - A large batch size is beneficial for performance - if the memory constraints permit, as large\n",
    "            as 1-10 % of the total training dataset size is suggested. The virtual batch size is typically\n",
    "            much smaller than the batch size.\n",
    "            - Initially large learning rate is important, which should be gradually decayed until convergence.\n",
    "        Args:\n",
    "            feature_columns: The Tensorflow feature columns for the dataset.\n",
    "            num_layers: Number of TabNets to stack together.\n",
    "            feature_dim (N_a): Dimensionality of the hidden representation in feature\n",
    "                transformation block. Each layer first maps the representation to a\n",
    "                2*feature_dim-dimensional output and half of it is used to determine the\n",
    "                nonlinearity of the GLU activation where the other half is used as an\n",
    "                input to GLU, and eventually feature_dim-dimensional output is\n",
    "                transferred to the next layer. Can be either a single int, or a list of\n",
    "                integers. If a list, must be of same length as the number of layers.\n",
    "            output_dim (N_d): Dimensionality of the outputs of each decision step, which is\n",
    "                later mapped to the final classification or regression output.\n",
    "                Can be either a single int, or a list of\n",
    "                integers. If a list, must be of same length as the number of layers.\n",
    "            num_features: The number of input features (i.e the number of columns for\n",
    "                tabular data assuming each feature is represented with 1 dimension).\n",
    "            num_decision_steps(N_steps): Number of sequential decision steps.\n",
    "            relaxation_factor (gamma): Relaxation factor that promotes the reuse of each\n",
    "                feature at different decision steps. When it is 1, a feature is enforced\n",
    "                to be used only at one decision step and as it increases, more\n",
    "                flexibility is provided to use a feature at multiple decision steps.\n",
    "            sparsity_coefficient (lambda_sparse): Strength of the sparsity regularization.\n",
    "                Sparsity may provide a favorable inductive bias for convergence to\n",
    "                higher accuracy for some datasets where most of the input features are redundant.\n",
    "            norm_type: Type of normalization to perform for the model. Can be either\n",
    "                'batch' or 'group'. 'group' is the default.\n",
    "            batch_momentum: Momentum in ghost batch normalization.\n",
    "            virtual_batch_size: Virtual batch size in ghost batch normalization. The\n",
    "                overall batch size should be an integer multiple of virtual_batch_size.\n",
    "            num_groups: Number of groups used for group normalization.\n",
    "            epsilon: A small number for numerical stability of the entropy calculations.\n",
    "        \"\"\"\n",
    "        super(StackedTabNet, self).__init__(**kwargs)\n",
    "\n",
    "        if num_layers < 1:\n",
    "            raise ValueError(\"`num_layers` cannot be less than 1\")\n",
    "\n",
    "        if type(feature_dim) not in [list, tuple]:\n",
    "            feature_dim = [feature_dim] * num_layers\n",
    "\n",
    "        if type(output_dim) not in [list, tuple]:\n",
    "            output_dim = [output_dim] * num_layers\n",
    "\n",
    "        if len(feature_dim) != num_layers:\n",
    "            raise ValueError(\"`feature_dim` must be a list of length `num_layers`\")\n",
    "\n",
    "        if len(output_dim) != num_layers:\n",
    "            raise ValueError(\"`output_dim` must be a list of length `num_layers`\")\n",
    "\n",
    "        self.num_layers = num_layers\n",
    "\n",
    "        layers = []\n",
    "        layers.append(\n",
    "            TabNet(\n",
    "                feature_columns=feature_columns,\n",
    "                num_features=num_features,\n",
    "                feature_dim=feature_dim[0],\n",
    "                output_dim=output_dim[0],\n",
    "                num_decision_steps=num_decision_steps,\n",
    "                relaxation_factor=relaxation_factor,\n",
    "                sparsity_coefficient=sparsity_coefficient,\n",
    "                norm_type=norm_type,\n",
    "                batch_momentum=batch_momentum,\n",
    "                virtual_batch_size=virtual_batch_size,\n",
    "                num_groups=num_groups,\n",
    "                epsilon=epsilon,\n",
    "            )\n",
    "        )\n",
    "\n",
    "        for layer_idx in range(1, num_layers):\n",
    "            layers.append(\n",
    "                TabNet(\n",
    "                    feature_columns=None,\n",
    "                    num_features=output_dim[layer_idx - 1],\n",
    "                    feature_dim=feature_dim[layer_idx],\n",
    "                    output_dim=output_dim[layer_idx],\n",
    "                    num_decision_steps=num_decision_steps,\n",
    "                    relaxation_factor=relaxation_factor,\n",
    "                    sparsity_coefficient=sparsity_coefficient,\n",
    "                    norm_type=norm_type,\n",
    "                    batch_momentum=batch_momentum,\n",
    "                    virtual_batch_size=virtual_batch_size,\n",
    "                    num_groups=num_groups,\n",
    "                    epsilon=epsilon,\n",
    "                )\n",
    "            )\n",
    "\n",
    "        self.tabnet_layers = layers\n",
    "\n",
    "    def call(self, inputs, training=None):\n",
    "        x = self.tabnet_layers[0](inputs, training=training)\n",
    "\n",
    "        for layer_idx in range(1, self.num_layers):\n",
    "            x = self.tabnet_layers[layer_idx](x, training=training)\n",
    "\n",
    "        return x\n",
    "\n",
    "    @property\n",
    "    def tabnets(self):\n",
    "        return self.tabnet_layers\n",
    "\n",
    "    @property\n",
    "    def feature_selection_masks(self):\n",
    "        return [tabnet.feature_selection_masks for tabnet in self.tabnet_layers]\n",
    "\n",
    "    @property\n",
    "    def aggregate_feature_selection_mask(self):\n",
    "        return [tabnet.aggregate_feature_selection_mask for tabnet in self.tabnet_layers]"
   ]
  },
  {
   "cell_type": "code",
   "execution_count": 46,
   "metadata": {
    "execution": {
     "iopub.execute_input": "2020-10-23T00:35:59.026045Z",
     "iopub.status.busy": "2020-10-23T00:35:59.024681Z",
     "iopub.status.idle": "2020-10-23T00:35:59.045266Z",
     "shell.execute_reply": "2020-10-23T00:35:59.046542Z"
    },
    "papermill": {
     "duration": 0.161815,
     "end_time": "2020-10-23T00:35:59.046772",
     "exception": false,
     "start_time": "2020-10-23T00:35:58.884957",
     "status": "completed"
    },
    "tags": []
   },
   "outputs": [],
   "source": [
    "class StackedTabNetClassifier(tf.keras.Model):\n",
    "    def __init__(\n",
    "        self,\n",
    "        feature_columns,\n",
    "        num_classes,\n",
    "        num_layers=1,\n",
    "        feature_dim=64,\n",
    "        output_dim=64,\n",
    "        num_features=None,\n",
    "        num_decision_steps=5,\n",
    "        relaxation_factor=1.5,\n",
    "        sparsity_coefficient=1e-5,\n",
    "        norm_type=\"group\",\n",
    "        batch_momentum=0.98,\n",
    "        virtual_batch_size=None,\n",
    "        num_groups=2,\n",
    "        epsilon=1e-5,\n",
    "        multi_label=False,\n",
    "        **kwargs\n",
    "    ):\n",
    "        \"\"\"\n",
    "        Tensorflow 2.0 implementation of [TabNet: Attentive Interpretable Tabular Learning](https://arxiv.org/abs/1908.07442)\n",
    "        Stacked variant of the TabNet model, which stacks multiple TabNets into a singular model.\n",
    "        # Hyper Parameter Tuning (Excerpt from the paper)\n",
    "        We consider datasets ranging from ∼10K to ∼10M training points, with varying degrees of fitting\n",
    "        difficulty. TabNet obtains high performance for all with a few general principles on hyperparameter\n",
    "        selection:\n",
    "            - Most datasets yield the best results for Nsteps ∈ [3, 10]. Typically, larger datasets and\n",
    "            more complex tasks require a larger Nsteps. A very high value of Nsteps may suffer from\n",
    "            overfitting and yield poor generalization.\n",
    "            - Adjustment of the values of Nd and Na is the most efficient way of obtaining a trade-off\n",
    "            between performance and complexity. Nd = Na is a reasonable choice for most datasets. A\n",
    "            very high value of Nd and Na may suffer from overfitting and yield poor generalization.\n",
    "            - An optimal choice of γ can have a major role on the overall performance. Typically a larger\n",
    "            Nsteps value favors for a larger γ.\n",
    "            - A large batch size is beneficial for performance - if the memory constraints permit, as large\n",
    "            as 1-10 % of the total training dataset size is suggested. The virtual batch size is typically\n",
    "            much smaller than the batch size.\n",
    "            - Initially large learning rate is important, which should be gradually decayed until convergence.\n",
    "        Args:\n",
    "            feature_columns: The Tensorflow feature columns for the dataset.\n",
    "            num_classes: Number of classes.\n",
    "            num_layers: Number of TabNets to stack together.\n",
    "            feature_dim (N_a): Dimensionality of the hidden representation in feature\n",
    "                transformation block. Each layer first maps the representation to a\n",
    "                2*feature_dim-dimensional output and half of it is used to determine the\n",
    "                nonlinearity of the GLU activation where the other half is used as an\n",
    "                input to GLU, and eventually feature_dim-dimensional output is\n",
    "                transferred to the next layer. Can be either a single int, or a list of\n",
    "                integers. If a list, must be of same length as the number of layers.\n",
    "            output_dim (N_d): Dimensionality of the outputs of each decision step, which is\n",
    "                later mapped to the final classification or regression output.\n",
    "                Can be either a single int, or a list of\n",
    "                integers. If a list, must be of same length as the number of layers.\n",
    "            num_features: The number of input features (i.e the number of columns for\n",
    "                tabular data assuming each feature is represented with 1 dimension).\n",
    "            num_decision_steps(N_steps): Number of sequential decision steps.\n",
    "            relaxation_factor (gamma): Relaxation factor that promotes the reuse of each\n",
    "                feature at different decision steps. When it is 1, a feature is enforced\n",
    "                to be used only at one decision step and as it increases, more\n",
    "                flexibility is provided to use a feature at multiple decision steps.\n",
    "            sparsity_coefficient (lambda_sparse): Strength of the sparsity regularization.\n",
    "                Sparsity may provide a favorable inductive bias for convergence to\n",
    "                higher accuracy for some datasets where most of the input features are redundant.\n",
    "            norm_type: Type of normalization to perform for the model. Can be either\n",
    "                'batch' or 'group'. 'group' is the default.\n",
    "            batch_momentum: Momentum in ghost batch normalization.\n",
    "            virtual_batch_size: Virtual batch size in ghost batch normalization. The\n",
    "                overall batch size should be an integer multiple of virtual_batch_size.\n",
    "            num_groups: Number of groups used for group normalization.\n",
    "            epsilon: A small number for numerical stability of the entropy calculations.\n",
    "        \"\"\"\n",
    "        super(StackedTabNetClassifier, self).__init__(**kwargs)\n",
    "\n",
    "        self.num_classes = num_classes\n",
    "\n",
    "        self.stacked_tabnet = StackedTabNet(\n",
    "            feature_columns=feature_columns,\n",
    "            num_layers=num_layers,\n",
    "            feature_dim=feature_dim,\n",
    "            output_dim=output_dim,\n",
    "            num_features=num_features,\n",
    "            num_decision_steps=num_decision_steps,\n",
    "            relaxation_factor=relaxation_factor,\n",
    "            sparsity_coefficient=sparsity_coefficient,\n",
    "            norm_type=norm_type,\n",
    "            batch_momentum=batch_momentum,\n",
    "            virtual_batch_size=virtual_batch_size,\n",
    "            num_groups=num_groups,\n",
    "            epsilon=epsilon,\n",
    "        )\n",
    "        if multi_label:\n",
    "\n",
    "            self.clf = L.Dense(num_classes, activation=\"sigmoid\", use_bias=False)\n",
    "\n",
    "        else:\n",
    "\n",
    "            self.clf = L.Dense(num_classes, activation=\"softmax\", use_bias=False)\n",
    "\n",
    "    def call(self, inputs, training=None):\n",
    "        self.activations = self.stacked_tabnet(inputs, training=training)\n",
    "        out = self.clf(self.activations)\n",
    "\n",
    "        return out"
   ]
  },
  {
   "cell_type": "code",
   "execution_count": 47,
   "metadata": {
    "execution": {
     "iopub.execute_input": "2020-10-23T00:35:59.289360Z",
     "iopub.status.busy": "2020-10-23T00:35:59.286456Z",
     "iopub.status.idle": "2020-10-23T00:35:59.312200Z",
     "shell.execute_reply": "2020-10-23T00:35:59.316203Z"
    },
    "papermill": {
     "duration": 0.153946,
     "end_time": "2020-10-23T00:35:59.316390",
     "exception": false,
     "start_time": "2020-10-23T00:35:59.162444",
     "status": "completed"
    },
    "tags": []
   },
   "outputs": [],
   "source": [
    "class StackedTabNetRegressor(tf.keras.Model):\n",
    "    def __init__(\n",
    "        self,\n",
    "        feature_columns,\n",
    "        num_regressors,\n",
    "        num_layers=1,\n",
    "        feature_dim=64,\n",
    "        output_dim=64,\n",
    "        num_features=None,\n",
    "        num_decision_steps=5,\n",
    "        relaxation_factor=1.5,\n",
    "        sparsity_coefficient=1e-5,\n",
    "        norm_type=\"group\",\n",
    "        batch_momentum=0.98,\n",
    "        virtual_batch_size=None,\n",
    "        num_groups=2,\n",
    "        epsilon=1e-5,\n",
    "        **kwargs\n",
    "    ):\n",
    "        \"\"\"\n",
    "        Tensorflow 2.0 implementation of [TabNet: Attentive Interpretable Tabular Learning](https://arxiv.org/abs/1908.07442)\n",
    "        Stacked variant of the TabNet model, which stacks multiple TabNets into a singular model.\n",
    "        # Hyper Parameter Tuning (Excerpt from the paper)\n",
    "        We consider datasets ranging from ∼10K to ∼10M training points, with varying degrees of fitting\n",
    "        difficulty. TabNet obtains high performance for all with a few general principles on hyperparameter\n",
    "        selection:\n",
    "            - Most datasets yield the best results for Nsteps ∈ [3, 10]. Typically, larger datasets and\n",
    "            more complex tasks require a larger Nsteps. A very high value of Nsteps may suffer from\n",
    "            overfitting and yield poor generalization.\n",
    "            - Adjustment of the values of Nd and Na is the most efficient way of obtaining a trade-off\n",
    "            between performance and complexity. Nd = Na is a reasonable choice for most datasets. A\n",
    "            very high value of Nd and Na may suffer from overfitting and yield poor generalization.\n",
    "            - An optimal choice of γ can have a major role on the overall performance. Typically a larger\n",
    "            Nsteps value favors for a larger γ.\n",
    "            - A large batch size is beneficial for performance - if the memory constraints permit, as large\n",
    "            as 1-10 % of the total training dataset size is suggested. The virtual batch size is typically\n",
    "            much smaller than the batch size.\n",
    "            - Initially large learning rate is important, which should be gradually decayed until convergence.\n",
    "        Args:\n",
    "            feature_columns: The Tensorflow feature columns for the dataset.\n",
    "            num_regressors: Number of regressors.\n",
    "            num_layers: Number of TabNets to stack together.\n",
    "            feature_dim (N_a): Dimensionality of the hidden representation in feature\n",
    "                transformation block. Each layer first maps the representation to a\n",
    "                2*feature_dim-dimensional output and half of it is used to determine the\n",
    "                nonlinearity of the GLU activation where the other half is used as an\n",
    "                input to GLU, and eventually feature_dim-dimensional output is\n",
    "                transferred to the next layer. Can be either a single int, or a list of\n",
    "                integers. If a list, must be of same length as the number of layers.\n",
    "            output_dim (N_d): Dimensionality of the outputs of each decision step, which is\n",
    "                later mapped to the final classification or regression output.\n",
    "                Can be either a single int, or a list of\n",
    "                integers. If a list, must be of same length as the number of layers.\n",
    "            num_features: The number of input features (i.e the number of columns for\n",
    "                tabular data assuming each feature is represented with 1 dimension).\n",
    "            num_decision_steps(N_steps): Number of sequential decision steps.\n",
    "            relaxation_factor (gamma): Relaxation factor that promotes the reuse of each\n",
    "                feature at different decision steps. When it is 1, a feature is enforced\n",
    "                to be used only at one decision step and as it increases, more\n",
    "                flexibility is provided to use a feature at multiple decision steps.\n",
    "            sparsity_coefficient (lambda_sparse): Strength of the sparsity regularization.\n",
    "                Sparsity may provide a favorable inductive bias for convergence to\n",
    "                higher accuracy for some datasets where most of the input features are redundant.\n",
    "            norm_type: Type of normalization to perform for the model. Can be either\n",
    "                'batch' or 'group'. 'group' is the default.\n",
    "            batch_momentum: Momentum in ghost batch normalization.\n",
    "            virtual_batch_size: Virtual batch size in ghost batch normalization. The\n",
    "                overall batch size should be an integer multiple of virtual_batch_size.\n",
    "            num_groups: Number of groups used for group normalization.\n",
    "            epsilon: A small number for numerical stability of the entropy calculations.\n",
    "        \"\"\"\n",
    "        super(StackedTabNetRegressor, self).__init__(**kwargs)\n",
    "\n",
    "        self.num_regressors = num_regressors\n",
    "\n",
    "        self.stacked_tabnet = StackedTabNet(\n",
    "            feature_columns=feature_columns,\n",
    "            num_layers=num_layers,\n",
    "            feature_dim=feature_dim,\n",
    "            output_dim=output_dim,\n",
    "            num_features=num_features,\n",
    "            num_decision_steps=num_decision_steps,\n",
    "            relaxation_factor=relaxation_factor,\n",
    "            sparsity_coefficient=sparsity_coefficient,\n",
    "            norm_type=norm_type,\n",
    "            batch_momentum=batch_momentum,\n",
    "            virtual_batch_size=virtual_batch_size,\n",
    "            num_groups=num_groups,\n",
    "            epsilon=epsilon,\n",
    "        )\n",
    "\n",
    "        self.regressor = L.Dense(num_regressors, use_bias=False)\n",
    "\n",
    "    def call(self, inputs, training=None):\n",
    "        self.activations = self.tabnet(inputs, training=training)\n",
    "        out = self.regressor(self.activations)\n",
    "        return outl"
   ]
  },
  {
   "cell_type": "code",
   "execution_count": 48,
   "metadata": {
    "execution": {
     "iopub.execute_input": "2020-10-23T00:35:59.534011Z",
     "iopub.status.busy": "2020-10-23T00:35:59.533105Z",
     "iopub.status.idle": "2020-10-23T00:35:59.537543Z",
     "shell.execute_reply": "2020-10-23T00:35:59.539193Z"
    },
    "papermill": {
     "duration": 0.115402,
     "end_time": "2020-10-23T00:35:59.539383",
     "exception": false,
     "start_time": "2020-10-23T00:35:59.423981",
     "status": "completed"
    },
    "tags": []
   },
   "outputs": [],
   "source": [
    "def create_model_tabnet(num_col, output_dim):\n",
    "    model = StackedTabNetClassifier(\n",
    "        feature_columns=None,\n",
    "        num_classes=output_dim,\n",
    "        num_layers=1,\n",
    "        feature_dim=1024,\n",
    "        output_dim=1024,\n",
    "        num_features=num_col,\n",
    "        num_decision_steps=1,\n",
    "        relaxation_factor=1.5,\n",
    "        sparsity_coefficient=0,\n",
    "        batch_momentum=0.98,\n",
    "        virtual_batch_size=None,\n",
    "        norm_type=\"group\",\n",
    "        num_groups=-1,\n",
    "        multi_label=True,\n",
    "    )\n",
    "\n",
    "    return model"
   ]
  },
  {
   "cell_type": "markdown",
   "metadata": {
    "papermill": {
     "duration": 0.102179,
     "end_time": "2020-10-23T00:35:59.737689",
     "exception": false,
     "start_time": "2020-10-23T00:35:59.635510",
     "status": "completed"
    },
    "tags": []
   },
   "source": [
    "# Learning"
   ]
  },
  {
   "cell_type": "code",
   "execution_count": 49,
   "metadata": {
    "execution": {
     "iopub.execute_input": "2020-10-23T00:35:59.876209Z",
     "iopub.status.busy": "2020-10-23T00:35:59.874268Z",
     "iopub.status.idle": "2020-10-23T00:35:59.877015Z",
     "shell.execute_reply": "2020-10-23T00:35:59.877574Z"
    },
    "papermill": {
     "duration": 0.073376,
     "end_time": "2020-10-23T00:35:59.877723",
     "exception": false,
     "start_time": "2020-10-23T00:35:59.804347",
     "status": "completed"
    },
    "tags": []
   },
   "outputs": [],
   "source": [
    "models = [\"SimpleNN\", \"ResNet\", \"SplitNN\", \"TabNet\"]"
   ]
  },
  {
   "cell_type": "code",
   "execution_count": 50,
   "metadata": {
    "execution": {
     "iopub.execute_input": "2020-10-23T00:36:00.013247Z",
     "iopub.status.busy": "2020-10-23T00:36:00.012402Z",
     "iopub.status.idle": "2020-10-23T00:36:00.016811Z",
     "shell.execute_reply": "2020-10-23T00:36:00.016300Z"
    },
    "papermill": {
     "duration": 0.0746,
     "end_time": "2020-10-23T00:36:00.016914",
     "exception": false,
     "start_time": "2020-10-23T00:35:59.942314",
     "status": "completed"
    },
    "tags": []
   },
   "outputs": [],
   "source": [
    "N_STARTS = len(models) * 2\n",
    "# N_STARTS = 1\n",
    "N_SPLITS = 10"
   ]
  },
  {
   "cell_type": "code",
   "execution_count": 51,
   "metadata": {
    "execution": {
     "iopub.execute_input": "2020-10-23T00:36:00.155934Z",
     "iopub.status.busy": "2020-10-23T00:36:00.155048Z",
     "iopub.status.idle": "2020-10-23T00:36:00.160005Z",
     "shell.execute_reply": "2020-10-23T00:36:00.159451Z"
    },
    "papermill": {
     "duration": 0.076919,
     "end_time": "2020-10-23T00:36:00.160113",
     "exception": false,
     "start_time": "2020-10-23T00:36:00.083194",
     "status": "completed"
    },
    "tags": []
   },
   "outputs": [],
   "source": [
    "pre_train_models = [\"SimpleNN\", \"ResNet\"]"
   ]
  },
  {
   "cell_type": "code",
   "execution_count": 52,
   "metadata": {
    "execution": {
     "iopub.execute_input": "2020-10-23T00:36:00.304903Z",
     "iopub.status.busy": "2020-10-23T00:36:00.294207Z",
     "iopub.status.idle": "2020-10-23T00:36:00.345296Z",
     "shell.execute_reply": "2020-10-23T00:36:00.344591Z"
    },
    "papermill": {
     "duration": 0.120295,
     "end_time": "2020-10-23T00:36:00.345418",
     "exception": false,
     "start_time": "2020-10-23T00:36:00.225123",
     "status": "completed"
    },
    "tags": []
   },
   "outputs": [],
   "source": [
    "def learning(target, N_STARTS, N_SPLITS, do_predict=False, do_transfer_learning=False):\n",
    "    oof = {}\n",
    "    predictions = {}\n",
    "\n",
    "    for seed in range(N_STARTS):\n",
    "        model_name = models[seed % len(models)]\n",
    "\n",
    "        if not do_predict and model_name not in pre_train_models:\n",
    "            continue\n",
    "\n",
    "        seed_result = target.copy()\n",
    "        seed_result.loc[:, target.columns] = 0\n",
    "        prediction = ss.copy()\n",
    "        prediction.loc[:, ss.columns] = 0\n",
    "\n",
    "        # for SplitNN\n",
    "        split_cols = []\n",
    "        for _ in range(3):  # len(hidden_units) - 1\n",
    "            split_cols.append(np.random.choice(range(len(train.columns)), int(np.ceil(0.8 * len(train.columns)))))\n",
    "\n",
    "        if do_predict:\n",
    "            kfold_seed = random_seed + seed\n",
    "        else:\n",
    "            kfold_seed = seed\n",
    "\n",
    "        fix_seed(kfold_seed)\n",
    "\n",
    "        for n, (tr, te) in enumerate(\n",
    "            MultilabelStratifiedKFold(n_splits=N_SPLITS, random_state=kfold_seed, shuffle=True).split(target, target)\n",
    "        ):\n",
    "            start_time = time()\n",
    "\n",
    "            # Build Model\n",
    "            if model_name == \"SimpleNN\":\n",
    "                model = create_model_simple_nn(len(train.columns), len(target.columns))\n",
    "\n",
    "                if do_transfer_learning:\n",
    "                    model_base = create_model_simple_nn(len(train.columns), len(non_target_df.columns))\n",
    "\n",
    "            elif model_name == \"ResNet\":\n",
    "                model = create_model_resnet(len(train.columns), len(train_pca.columns), len(target.columns))\n",
    "\n",
    "                if do_transfer_learning:\n",
    "                    model_base = create_model_resnet(len(train.columns), len(train_pca.columns), len(non_target_df.columns))\n",
    "\n",
    "            elif model_name == \"SplitNN\":\n",
    "                model = create_model_split_nn(len(train.columns), len(target.columns))\n",
    "\n",
    "                # if do_transfer_learning:\n",
    "                #    model_base = create_model_split_nn(len(train.columns), len(non_target_df.columns))\n",
    "\n",
    "            elif model_name == \"NODE\":\n",
    "                model = create_model_node(len(target.columns))\n",
    "\n",
    "                # if do_transfer_learning:\n",
    "                #    model = create_model_node(len(non_target_df.columns))\n",
    "\n",
    "            elif model_name == \"KernelRidge\":\n",
    "                model = KernelRidge(alpha=80, kernel=\"rbf\")\n",
    "\n",
    "                # if do_transfer_learning:\n",
    "                #    model = create_model_node(len(non_target_df.columns))\n",
    "\n",
    "            elif model_name == \"TabNet\":\n",
    "                model = create_model_tabnet(len(train.columns), len(target.columns))\n",
    "\n",
    "                # if do_transfer_learning:\n",
    "                #    model_base = create_model_tabnet(len(train.columns), len(non_target_df.columns))\n",
    "\n",
    "            else:\n",
    "                raise \"Model name is invalid.\"\n",
    "\n",
    "            # Build Data Sets\n",
    "            if model_name == \"SplitNN\":\n",
    "                x_tr = [\n",
    "                    train.values[tr][:, split_cols[0]],\n",
    "                    train.values[tr][:, split_cols[1]],\n",
    "                    train.values[tr][:, split_cols[2]],\n",
    "                ]\n",
    "                x_val = [\n",
    "                    train.values[te][:, split_cols[0]],\n",
    "                    train.values[te][:, split_cols[1]],\n",
    "                    train.values[te][:, split_cols[2]],\n",
    "                ]\n",
    "                y_tr, y_val = target.astype(float).values[tr], target.astype(float).values[te]\n",
    "                x_tt = [test.values[:, split_cols[0]], test.values[:, split_cols[1]], test.values[:, split_cols[2]]]\n",
    "\n",
    "            elif model_name == \"ResNet\":\n",
    "                x_tr = [\n",
    "                    train.values[tr],\n",
    "                    train_pca.values[tr],\n",
    "                ]\n",
    "                x_val = [\n",
    "                    train.values[te],\n",
    "                    train_pca.values[te],\n",
    "                ]\n",
    "                y_tr, y_val = target.astype(float).values[tr], target.astype(float).values[te]\n",
    "                x_tt = [test.values, test_pca.values]\n",
    "\n",
    "            else:\n",
    "                x_tr, x_val = train.values[tr], train.values[te]\n",
    "                y_tr, y_val = target.astype(float).values[tr], target.astype(float).values[te]\n",
    "                x_tt = test.values\n",
    "\n",
    "            if model_name == \"KernelRidge\":\n",
    "                model.fit(x_tr, y_tr)\n",
    "            else:\n",
    "                model.compile(\n",
    "                    optimizer=tfa.optimizers.AdamW(lr=1e-3, weight_decay=1e-5, clipvalue=756),\n",
    "                    loss=tf.keras.losses.BinaryCrossentropy(label_smoothing=0.001),\n",
    "                    metrics=logloss,\n",
    "                )\n",
    "\n",
    "                checkpoint_path = f\"{model_name}_repeat:{seed}_fold:{n}.hdf5\"\n",
    "\n",
    "                if do_transfer_learning and model_name not in [\"SplitNN\", \"NODE\", \"TabNet\"]:\n",
    "                    model_base.load_weights(checkpoint_path)\n",
    "                    for layer in range(len(model_base.layers[:-1])):\n",
    "                        model.layers[layer].set_weights(model_base.layers[layer].get_weights())\n",
    "\n",
    "                cb_checkpt = ModelCheckpoint(\n",
    "                    checkpoint_path,\n",
    "                    monitor=\"val_loss\",\n",
    "                    verbose=0,\n",
    "                    save_best_only=True,\n",
    "                    save_weights_only=True,\n",
    "                    mode=\"min\",\n",
    "                )\n",
    "                reduce_lr_loss = ReduceLROnPlateau(\n",
    "                    monitor=\"val_loss\", factor=0.1, patience=3, verbose=0, min_delta=1e-4, mode=\"min\"\n",
    "                )\n",
    "                early_stopping = EarlyStopping(\n",
    "                    monitor=\"val_loss\",\n",
    "                    patience=10,\n",
    "                    mode=\"min\",\n",
    "                    verbose=0,\n",
    "                    min_delta=1e-4,\n",
    "                    restore_best_weights=True,\n",
    "                )\n",
    "                model.fit(\n",
    "                    x_tr,\n",
    "                    y_tr,\n",
    "                    validation_data=(x_val, y_val),\n",
    "                    epochs=100,\n",
    "                    batch_size=128,\n",
    "                    callbacks=[cb_checkpt, reduce_lr_loss, early_stopping],\n",
    "                    verbose=0,\n",
    "                )\n",
    "\n",
    "            val_predict = model.predict(x_val)\n",
    "            fold_score = metric(target.loc[te].values, val_predict)\n",
    "            seed_result.loc[te, target.columns] += val_predict\n",
    "\n",
    "            if do_predict:\n",
    "                test_predict = model.predict(x_tt)\n",
    "                prediction.loc[:, target.columns] += test_predict / N_SPLITS\n",
    "\n",
    "            print(\n",
    "                f\"[{str(datetime.timedelta(seconds = time() - start_time))[2:7]}] {model_name}: Seed {seed}, Fold {n}:\",\n",
    "                fold_score,\n",
    "            )\n",
    "\n",
    "            K.clear_session()\n",
    "            del model\n",
    "            x = gc.collect()\n",
    "\n",
    "        oof[f\"{model_name}_{seed}\"] = seed_result\n",
    "        predictions[f\"{model_name}_{seed}\"] = prediction\n",
    "\n",
    "    return oof, predictions"
   ]
  },
  {
   "cell_type": "code",
   "execution_count": 53,
   "metadata": {
    "execution": {
     "iopub.execute_input": "2020-10-23T00:36:00.512441Z",
     "iopub.status.busy": "2020-10-23T00:36:00.510769Z",
     "iopub.status.idle": "2020-10-23T01:07:13.086544Z",
     "shell.execute_reply": "2020-10-23T01:07:13.087220Z"
    },
    "papermill": {
     "duration": 1872.661391,
     "end_time": "2020-10-23T01:07:13.087387",
     "exception": false,
     "start_time": "2020-10-23T00:36:00.425996",
     "status": "completed"
    },
    "tags": []
   },
   "outputs": [
    {
     "name": "stdout",
     "output_type": "stream",
     "text": [
      "[00:40] SimpleNN: Seed 0, Fold 0: 0.004712317205378051\n",
      "[00:32] SimpleNN: Seed 0, Fold 1: 0.004676883132048785\n",
      "[00:25] SimpleNN: Seed 0, Fold 2: 0.005000483403875924\n",
      "[00:28] SimpleNN: Seed 0, Fold 3: 0.0047088579466779655\n",
      "[00:29] SimpleNN: Seed 0, Fold 4: 0.004779634866272102\n",
      "[00:27] SimpleNN: Seed 0, Fold 5: 0.00483432840891245\n",
      "[00:26] SimpleNN: Seed 0, Fold 6: 0.004888014708495166\n",
      "[00:25] SimpleNN: Seed 0, Fold 7: 0.004946318964626117\n",
      "[00:26] SimpleNN: Seed 0, Fold 8: 0.004749806094629283\n",
      "[00:26] SimpleNN: Seed 0, Fold 9: 0.004853602906117713\n",
      "[01:23] ResNet: Seed 1, Fold 0: 0.004290680092834073\n",
      "[00:59] ResNet: Seed 1, Fold 1: 0.004631162909013842\n",
      "[01:04] ResNet: Seed 1, Fold 2: 0.0044744647502246914\n",
      "[01:07] ResNet: Seed 1, Fold 3: 0.004513004861321378\n",
      "[00:58] ResNet: Seed 1, Fold 4: 0.004691619370221516\n",
      "[01:03] ResNet: Seed 1, Fold 5: 0.004501433396829488\n",
      "[00:58] ResNet: Seed 1, Fold 6: 0.004639399909855792\n",
      "[01:03] ResNet: Seed 1, Fold 7: 0.004463840968409531\n",
      "[01:08] ResNet: Seed 1, Fold 8: 0.0042098542389718266\n",
      "[01:05] ResNet: Seed 1, Fold 9: 0.004388046550058832\n",
      "[00:34] SimpleNN: Seed 4, Fold 0: 0.004659827202676325\n",
      "[00:26] SimpleNN: Seed 4, Fold 1: 0.004710291940580169\n",
      "[00:24] SimpleNN: Seed 4, Fold 2: 0.004847209650930523\n",
      "[00:25] SimpleNN: Seed 4, Fold 3: 0.004698215303090344\n",
      "[00:27] SimpleNN: Seed 4, Fold 4: 0.004751028248972563\n",
      "[00:25] SimpleNN: Seed 4, Fold 5: 0.0048438417596265455\n",
      "[00:25] SimpleNN: Seed 4, Fold 6: 0.004843920226786013\n",
      "[00:26] SimpleNN: Seed 4, Fold 7: 0.004738723028644052\n",
      "[00:25] SimpleNN: Seed 4, Fold 8: 0.004769308717256315\n",
      "[00:26] SimpleNN: Seed 4, Fold 9: 0.004816731397427059\n",
      "[01:08] ResNet: Seed 5, Fold 0: 0.004486808753078127\n",
      "[01:01] ResNet: Seed 5, Fold 1: 0.004579589643992842\n",
      "[00:59] ResNet: Seed 5, Fold 2: 0.004523541882934024\n",
      "[01:01] ResNet: Seed 5, Fold 3: 0.004523182732379456\n",
      "[01:04] ResNet: Seed 5, Fold 4: 0.004455363309700804\n",
      "[01:08] ResNet: Seed 5, Fold 5: 0.004324461714246197\n",
      "[01:01] ResNet: Seed 5, Fold 6: 0.004582808338570542\n",
      "[01:04] ResNet: Seed 5, Fold 7: 0.004476317954734121\n",
      "[01:03] ResNet: Seed 5, Fold 8: 0.004545995063565314\n",
      "[01:06] ResNet: Seed 5, Fold 9: 0.004351372976938575\n"
     ]
    }
   ],
   "source": [
    "# Pre train with non-scored labels\n",
    "_, _ = learning(non_target_df, N_STARTS, N_SPLITS)"
   ]
  },
  {
   "cell_type": "code",
   "execution_count": 54,
   "metadata": {
    "execution": {
     "iopub.execute_input": "2020-10-23T01:07:13.234492Z",
     "iopub.status.busy": "2020-10-23T01:07:13.233246Z",
     "iopub.status.idle": "2020-10-23T02:14:43.195504Z",
     "shell.execute_reply": "2020-10-23T02:14:43.196197Z"
    },
    "papermill": {
     "duration": 4050.038777,
     "end_time": "2020-10-23T02:14:43.196361",
     "exception": false,
     "start_time": "2020-10-23T01:07:13.157584",
     "status": "completed"
    },
    "tags": []
   },
   "outputs": [
    {
     "name": "stdout",
     "output_type": "stream",
     "text": [
      "[00:33] SimpleNN: Seed 0, Fold 0: 0.016534919013680774\n",
      "[00:31] SimpleNN: Seed 0, Fold 1: 0.016324114052847425\n",
      "[00:38] SimpleNN: Seed 0, Fold 2: 0.016052448727012815\n",
      "[00:29] SimpleNN: Seed 0, Fold 3: 0.016244188150387483\n",
      "[00:31] SimpleNN: Seed 0, Fold 4: 0.01630800184069512\n",
      "[00:29] SimpleNN: Seed 0, Fold 5: 0.016643087176541446\n",
      "[00:27] SimpleNN: Seed 0, Fold 6: 0.016357288839484185\n",
      "[00:37] SimpleNN: Seed 0, Fold 7: 0.016216399478829684\n",
      "[00:32] SimpleNN: Seed 0, Fold 8: 0.01603064132835059\n",
      "[00:30] SimpleNN: Seed 0, Fold 9: 0.015981647101265446\n",
      "[01:07] ResNet: Seed 1, Fold 0: 0.016353242100259055\n",
      "[01:04] ResNet: Seed 1, Fold 1: 0.016416093042704718\n",
      "[01:07] ResNet: Seed 1, Fold 2: 0.016482077139500475\n",
      "[01:02] ResNet: Seed 1, Fold 3: 0.01614949526850779\n",
      "[01:04] ResNet: Seed 1, Fold 4: 0.015999013739556752\n",
      "[01:07] ResNet: Seed 1, Fold 5: 0.016093293049970002\n",
      "[01:05] ResNet: Seed 1, Fold 6: 0.016099697487308773\n",
      "[01:06] ResNet: Seed 1, Fold 7: 0.016258552482501406\n",
      "[01:00] ResNet: Seed 1, Fold 8: 0.016510440346734295\n",
      "[01:05] ResNet: Seed 1, Fold 9: 0.01618821624188628\n",
      "[01:33] SplitNN: Seed 2, Fold 0: 0.016367074648915934\n",
      "[01:25] SplitNN: Seed 2, Fold 1: 0.016669436107083803\n",
      "[01:23] SplitNN: Seed 2, Fold 2: 0.016900865996037122\n",
      "[01:25] SplitNN: Seed 2, Fold 3: 0.016395013847489568\n",
      "[01:27] SplitNN: Seed 2, Fold 4: 0.01652706918765482\n",
      "[01:23] SplitNN: Seed 2, Fold 5: 0.01698664318328281\n",
      "[01:21] SplitNN: Seed 2, Fold 6: 0.01661636025853896\n",
      "[01:29] SplitNN: Seed 2, Fold 7: 0.01612570982849314\n",
      "[01:22] SplitNN: Seed 2, Fold 8: 0.016575375053634545\n",
      "[01:26] SplitNN: Seed 2, Fold 9: 0.01664443570365432\n",
      "[00:23] TabNet: Seed 3, Fold 0: 0.0169269517324573\n",
      "[00:17] TabNet: Seed 3, Fold 1: 0.016957986960515925\n",
      "[00:17] TabNet: Seed 3, Fold 2: 0.0169313340222387\n",
      "[00:17] TabNet: Seed 3, Fold 3: 0.017181654961353588\n",
      "[00:16] TabNet: Seed 3, Fold 4: 0.017308330758468143\n",
      "[00:16] TabNet: Seed 3, Fold 5: 0.017226620229043595\n",
      "[00:18] TabNet: Seed 3, Fold 6: 0.017038910547458336\n",
      "[00:17] TabNet: Seed 3, Fold 7: 0.017010106385414676\n",
      "[00:16] TabNet: Seed 3, Fold 8: 0.01751121765958295\n",
      "[00:17] TabNet: Seed 3, Fold 9: 0.016865510672420165\n",
      "[00:31] SimpleNN: Seed 4, Fold 0: 0.016264946403837993\n",
      "[00:32] SimpleNN: Seed 4, Fold 1: 0.016151967269351548\n",
      "[00:30] SimpleNN: Seed 4, Fold 2: 0.01657328215633338\n",
      "[00:31] SimpleNN: Seed 4, Fold 3: 0.016041834507438724\n",
      "[00:31] SimpleNN: Seed 4, Fold 4: 0.016190772404941153\n",
      "[00:33] SimpleNN: Seed 4, Fold 5: 0.01634172255068603\n",
      "[00:28] SimpleNN: Seed 4, Fold 6: 0.016465833833347345\n",
      "[00:31] SimpleNN: Seed 4, Fold 7: 0.01599081820332176\n",
      "[00:27] SimpleNN: Seed 4, Fold 8: 0.016560895118593804\n",
      "[00:31] SimpleNN: Seed 4, Fold 9: 0.016003160564175195\n",
      "[01:05] ResNet: Seed 5, Fold 0: 0.01613767798820033\n",
      "[01:05] ResNet: Seed 5, Fold 1: 0.016296483298500922\n",
      "[01:05] ResNet: Seed 5, Fold 2: 0.016353322107357435\n",
      "[01:05] ResNet: Seed 5, Fold 3: 0.016097180305483582\n",
      "[01:04] ResNet: Seed 5, Fold 4: 0.01643769750596229\n",
      "[01:01] ResNet: Seed 5, Fold 5: 0.016172173539340952\n",
      "[01:05] ResNet: Seed 5, Fold 6: 0.01643412734012781\n",
      "[01:02] ResNet: Seed 5, Fold 7: 0.016350808316194516\n",
      "[00:59] ResNet: Seed 5, Fold 8: 0.01606411212433128\n",
      "[01:03] ResNet: Seed 5, Fold 9: 0.016182559045452422\n",
      "[01:32] SplitNN: Seed 6, Fold 0: 0.01670004715312527\n",
      "[01:24] SplitNN: Seed 6, Fold 1: 0.016600735128415926\n",
      "[01:29] SplitNN: Seed 6, Fold 2: 0.016611393072984874\n",
      "[01:22] SplitNN: Seed 6, Fold 3: 0.016681124020415806\n",
      "[01:23] SplitNN: Seed 6, Fold 4: 0.016612514479617792\n",
      "[01:24] SplitNN: Seed 6, Fold 5: 0.01670124370209524\n",
      "[01:25] SplitNN: Seed 6, Fold 6: 0.016541749141447713\n",
      "[01:26] SplitNN: Seed 6, Fold 7: 0.016494846357418862\n",
      "[01:32] SplitNN: Seed 6, Fold 8: 0.01648086817162484\n",
      "[01:27] SplitNN: Seed 6, Fold 9: 0.016683866545253074\n",
      "[00:18] TabNet: Seed 7, Fold 0: 0.017234989337644727\n",
      "[00:16] TabNet: Seed 7, Fold 1: 0.016881337649644786\n",
      "[00:16] TabNet: Seed 7, Fold 2: 0.01691870992747195\n",
      "[00:17] TabNet: Seed 7, Fold 3: 0.01681236495073042\n",
      "[00:16] TabNet: Seed 7, Fold 4: 0.017522904505404564\n",
      "[00:16] TabNet: Seed 7, Fold 5: 0.01706751711257411\n",
      "[00:16] TabNet: Seed 7, Fold 6: 0.017043970733903444\n",
      "[00:18] TabNet: Seed 7, Fold 7: 0.01691166040155036\n",
      "[00:16] TabNet: Seed 7, Fold 8: 0.016838069053681726\n",
      "[00:17] TabNet: Seed 7, Fold 9: 0.016887182427583334\n"
     ]
    }
   ],
   "source": [
    "oof, predictions = learning(target_df, N_STARTS, N_SPLITS, True, True)"
   ]
  },
  {
   "cell_type": "markdown",
   "metadata": {
    "papermill": {
     "duration": 0.096859,
     "end_time": "2020-10-23T02:14:43.391147",
     "exception": false,
     "start_time": "2020-10-23T02:14:43.294288",
     "status": "completed"
    },
    "tags": []
   },
   "source": [
    "## Learning - Platt Scaling\n",
    "\n",
    "https://www.kaggle.com/gogo827jz/kernel-logistic-regression-one-for-206-targets?scriptVersionId=43366198"
   ]
  },
  {
   "cell_type": "code",
   "execution_count": 55,
   "metadata": {
    "execution": {
     "iopub.execute_input": "2020-10-23T02:14:43.617048Z",
     "iopub.status.busy": "2020-10-23T02:14:43.616243Z",
     "iopub.status.idle": "2020-10-23T02:14:43.619773Z",
     "shell.execute_reply": "2020-10-23T02:14:43.619258Z"
    },
    "papermill": {
     "duration": 0.130457,
     "end_time": "2020-10-23T02:14:43.619871",
     "exception": false,
     "start_time": "2020-10-23T02:14:43.489414",
     "status": "completed"
    },
    "tags": []
   },
   "outputs": [],
   "source": [
    "for key in oof.keys():\n",
    "    if \"KernelRidge\" not in key:\n",
    "        continue\n",
    "\n",
    "    start_time = time()\n",
    "\n",
    "    x_new = oof[key].values\n",
    "    x_tt_new = predictions[key].values\n",
    "\n",
    "    seed_result = target_df.copy()\n",
    "    seed_result.loc[:, target_df.columns] = 0\n",
    "    prediction = ss.copy()\n",
    "    prediction.loc[:, ss.columns] = 0\n",
    "\n",
    "    for col in range(target_df.shape[1]):\n",
    "        target = target_df.values[:, col]\n",
    "\n",
    "        if target.sum() >= N_SPLITS:\n",
    "            kfold_seed = random_seed + N_STARTS + N_SPLITS + col\n",
    "            skf = StratifiedKFold(n_splits=N_SPLITS, random_state=kfold_seed, shuffle=True)\n",
    "\n",
    "            for n, (tr, te) in enumerate(skf.split(target, target)):\n",
    "                x_tr, x_val = x_new[tr, col].reshape(-1, 1), x_new[te, col].reshape(-1, 1)\n",
    "                y_tr, y_val = target[tr], target[te]\n",
    "                x_tt = x_tt_new[:, col].reshape(-1, 1)\n",
    "\n",
    "                model = LogisticRegression(penalty=\"none\", max_iter=1000)\n",
    "                model.fit(x_tr, y_tr)\n",
    "\n",
    "                val_predict = model.predict_proba(x_val)\n",
    "                seed_result.loc[te, target_df.columns[col]] += val_predict[:, 1]\n",
    "\n",
    "                test_predict = model.predict_proba(x_tt)\n",
    "                prediction.loc[:, target_df.columns[col]] += test_predict[:, 1] / N_SPLITS\n",
    "        else:\n",
    "            seed_result.loc[:, target_df.columns[col]] += x_new[:, col]\n",
    "            prediction.loc[:, target_df.columns[col]] += x_tt_new[:, col]\n",
    "\n",
    "    seed_score = metric(target_df.values, seed_result.values)\n",
    "    print(\n",
    "        f\"[{str(datetime.timedelta(seconds = time() - start_time))[2:7]}] {key}: \",\n",
    "        seed_score,\n",
    "    )\n",
    "\n",
    "    oof[key] = seed_result\n",
    "    predictions[key] = prediction"
   ]
  },
  {
   "cell_type": "markdown",
   "metadata": {
    "papermill": {
     "duration": 0.097356,
     "end_time": "2020-10-23T02:14:43.814738",
     "exception": false,
     "start_time": "2020-10-23T02:14:43.717382",
     "status": "completed"
    },
    "tags": []
   },
   "source": [
    "# Cross Validation"
   ]
  },
  {
   "cell_type": "code",
   "execution_count": 56,
   "metadata": {
    "execution": {
     "iopub.execute_input": "2020-10-23T02:14:44.034562Z",
     "iopub.status.busy": "2020-10-23T02:14:44.033039Z",
     "iopub.status.idle": "2020-10-23T02:14:44.893495Z",
     "shell.execute_reply": "2020-10-23T02:14:44.894177Z"
    },
    "papermill": {
     "duration": 0.973168,
     "end_time": "2020-10-23T02:14:44.894326",
     "exception": false,
     "start_time": "2020-10-23T02:14:43.921158",
     "status": "completed"
    },
    "tags": []
   },
   "outputs": [
    {
     "name": "stdout",
     "output_type": "stream",
     "text": [
      "Initial blend CV: 0.015924745002000116\n",
      "Optimized blend CV: 0.015924745002000116\n",
      "Optimized weights: [0.125, 0.125, 0.125, 0.125, 0.125, 0.125, 0.125, 0.125]\n",
      "Check the sum of all weights: 1.0\n"
     ]
    }
   ],
   "source": [
    "initial_weights = [1.0 / N_STARTS for _ in range(N_STARTS)] + [1.0]\n",
    "\n",
    "# https://www.kaggle.com/gogo827jz/optimise-blending-weights-with-bonus-0#Bonus-(Lagrange-Multiplier)\n",
    "\n",
    "\n",
    "def lagrange_func(params):\n",
    "    # weights, _lambda = params\n",
    "    blend_ = blend(target_df.values.shape, params[:-1], oof)\n",
    "    return metric(target_df.values, blend_) - params[-1] * (sum(params[:-1]) - 1)\n",
    "\n",
    "\n",
    "grad_l = grad(lagrange_func)\n",
    "\n",
    "\n",
    "def lagrange_obj(params):\n",
    "    # weights, _lambda = params\n",
    "    d = grad_l(params).tolist()\n",
    "    return d[:-1] + [sum(params[:-1]) - 1]\n",
    "\n",
    "\n",
    "blend_ = blend(target_df.values.shape, initial_weights[:-1], oof)\n",
    "print(f\"Initial blend CV: {metric(target_df.values, blend_)}\")\n",
    "\n",
    "optimize = False\n",
    "if optimize:\n",
    "    optimized_weights = fsolve(lagrange_obj, initial_weights)\n",
    "else:\n",
    "    optimized_weights = initial_weights\n",
    "    \n",
    "blend_ = blend(target_df.values.shape, optimized_weights[:-1], oof)\n",
    "print(f\"Optimized blend CV: {metric(target_df.values, blend_)}\")\n",
    "\n",
    "print(f\"Optimized weights: {optimized_weights[:-1]}\")\n",
    "print(f\"Check the sum of all weights: {sum(optimized_weights[:-1])}\")"
   ]
  },
  {
   "cell_type": "markdown",
   "metadata": {
    "papermill": {
     "duration": 0.097843,
     "end_time": "2020-10-23T02:14:45.092910",
     "exception": false,
     "start_time": "2020-10-23T02:14:44.995067",
     "status": "completed"
    },
    "tags": []
   },
   "source": [
    "# Postprocessing"
   ]
  },
  {
   "cell_type": "code",
   "execution_count": 57,
   "metadata": {
    "execution": {
     "iopub.execute_input": "2020-10-23T02:14:45.309195Z",
     "iopub.status.busy": "2020-10-23T02:14:45.300323Z",
     "iopub.status.idle": "2020-10-23T02:14:45.623582Z",
     "shell.execute_reply": "2020-10-23T02:14:45.623035Z"
    },
    "papermill": {
     "duration": 0.432494,
     "end_time": "2020-10-23T02:14:45.623698",
     "exception": false,
     "start_time": "2020-10-23T02:14:45.191204",
     "status": "completed"
    },
    "tags": []
   },
   "outputs": [],
   "source": [
    "# Weighted blend\n",
    "submit_df.loc[:, target_df.columns] = blend(ss.shape, optimized_weights[:-1], predictions)"
   ]
  },
  {
   "cell_type": "code",
   "execution_count": 58,
   "metadata": {
    "execution": {
     "iopub.execute_input": "2020-10-23T02:14:45.827773Z",
     "iopub.status.busy": "2020-10-23T02:14:45.826867Z",
     "iopub.status.idle": "2020-10-23T02:14:45.869488Z",
     "shell.execute_reply": "2020-10-23T02:14:45.868926Z"
    },
    "papermill": {
     "duration": 0.147425,
     "end_time": "2020-10-23T02:14:45.869605",
     "exception": false,
     "start_time": "2020-10-23T02:14:45.722180",
     "status": "completed"
    },
    "tags": []
   },
   "outputs": [],
   "source": [
    "# Clipping\n",
    "submit_df.loc[:, target_df.columns] = submit_df.loc[:, target_df.columns].clip(1e-7, 1 - 1e-7)"
   ]
  },
  {
   "cell_type": "code",
   "execution_count": 59,
   "metadata": {
    "execution": {
     "iopub.execute_input": "2020-10-23T02:14:46.082582Z",
     "iopub.status.busy": "2020-10-23T02:14:46.081479Z",
     "iopub.status.idle": "2020-10-23T02:14:46.121209Z",
     "shell.execute_reply": "2020-10-23T02:14:46.120686Z"
    },
    "papermill": {
     "duration": 0.147679,
     "end_time": "2020-10-23T02:14:46.121304",
     "exception": false,
     "start_time": "2020-10-23T02:14:45.973625",
     "status": "completed"
    },
    "tags": []
   },
   "outputs": [],
   "source": [
    "submit_df.loc[test_df[\"cp_type\"] == \"ctl_vehicle\", target_df.columns] = 0"
   ]
  },
  {
   "cell_type": "markdown",
   "metadata": {
    "papermill": {
     "duration": 0.097169,
     "end_time": "2020-10-23T02:14:46.316753",
     "exception": false,
     "start_time": "2020-10-23T02:14:46.219584",
     "status": "completed"
    },
    "tags": []
   },
   "source": [
    "# Output"
   ]
  },
  {
   "cell_type": "code",
   "execution_count": 60,
   "metadata": {
    "execution": {
     "iopub.execute_input": "2020-10-23T02:14:46.518256Z",
     "iopub.status.busy": "2020-10-23T02:14:46.517512Z",
     "iopub.status.idle": "2020-10-23T02:14:48.721740Z",
     "shell.execute_reply": "2020-10-23T02:14:48.720643Z"
    },
    "papermill": {
     "duration": 2.307584,
     "end_time": "2020-10-23T02:14:48.721874",
     "exception": false,
     "start_time": "2020-10-23T02:14:46.414290",
     "status": "completed"
    },
    "tags": []
   },
   "outputs": [],
   "source": [
    "submit_df.to_csv(\"submission.csv\", index=False)"
   ]
  }
 ],
 "metadata": {
  "kernelspec": {
   "display_name": "Python 3",
   "language": "python",
   "name": "python3"
  },
  "language_info": {
   "codemirror_mode": {
    "name": "ipython",
    "version": 3
   },
   "file_extension": ".py",
   "mimetype": "text/x-python",
   "name": "python",
   "nbconvert_exporter": "python",
   "pygments_lexer": "ipython3",
   "version": "3.7.6"
  },
  "papermill": {
   "duration": 5971.811701,
   "end_time": "2020-10-23T02:14:50.151300",
   "environment_variables": {},
   "exception": null,
   "input_path": "__notebook__.ipynb",
   "output_path": "__notebook__.ipynb",
   "parameters": {},
   "start_time": "2020-10-23T00:35:18.339599",
   "version": "2.1.0"
  }
 },
 "nbformat": 4,
 "nbformat_minor": 4
}
